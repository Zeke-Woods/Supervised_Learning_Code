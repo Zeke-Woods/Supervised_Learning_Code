{
  "nbformat": 4,
  "nbformat_minor": 0,
  "metadata": {
    "colab": {
      "name": "Neural Networks in R",
      "provenance": [],
      "authorship_tag": "ABX9TyOqIQnVjuC3oX8KPLo9v5o9",
      "include_colab_link": true
    },
    "kernelspec": {
      "name": "ir",
      "display_name": "R"
    },
    "language_info": {
      "name": "R"
    }
  },
  "cells": [
    {
      "cell_type": "markdown",
      "metadata": {
        "id": "view-in-github",
        "colab_type": "text"
      },
      "source": [
        "<a href=\"https://colab.research.google.com/github/Zeke-Woods/Supervised_Learning_Code/blob/main/Neural_Networks_in_R.ipynb\" target=\"_parent\"><img src=\"https://colab.research.google.com/assets/colab-badge.svg\" alt=\"Open In Colab\"/></a>"
      ]
    },
    {
      "cell_type": "markdown",
      "source": [
        "## This is an Example of using Neural Networks in R"
      ],
      "metadata": {
        "id": "7n_ddlXWYNS_"
      }
    },
    {
      "cell_type": "markdown",
      "source": [
        "I am using the nnet package for nueral networks"
      ],
      "metadata": {
        "id": "k_7VtJeoYWZP"
      }
    },
    {
      "cell_type": "code",
      "source": [
        "library(nnet)"
      ],
      "metadata": {
        "id": "UGOWmnuKYRwQ"
      },
      "execution_count": 1,
      "outputs": []
    },
    {
      "cell_type": "markdown",
      "source": [
        "This dataset is using concrete and the goal is to predict the strength of the concrete given various factors"
      ],
      "metadata": {
        "id": "m-hTDy_EYo_O"
      }
    },
    {
      "cell_type": "code",
      "source": [
        "Concrete <- read.csv(\"Concrete.csv\")"
      ],
      "metadata": {
        "id": "Q6VQYKJaYVF9"
      },
      "execution_count": 2,
      "outputs": []
    },
    {
      "cell_type": "code",
      "source": [
        "#setting seed for consistency\n",
        "set.seed(12345)"
      ],
      "metadata": {
        "id": "ZPyMjFfvYzl6"
      },
      "execution_count": 4,
      "outputs": []
    },
    {
      "cell_type": "markdown",
      "source": [
        "Setting up a training set for Cross validation. 2/3 of the data for Training, 1/3 for validaton"
      ],
      "metadata": {
        "id": "7zPVTl53Y6S2"
      }
    },
    {
      "cell_type": "code",
      "source": [
        "ctrain = sample(1:1030,size=round(1030*2/3,0),replace=F) "
      ],
      "metadata": {
        "id": "0LL1iVUuZDU5"
      },
      "execution_count": 5,
      "outputs": []
    },
    {
      "cell_type": "markdown",
      "source": [
        "Setting up the first neural net with a decay of 0 and size = 3"
      ],
      "metadata": {
        "id": "PNfaCQCqZHVz"
      }
    },
    {
      "cell_type": "code",
      "source": [
        "Concrete.nn = nnet(Strength ~ . ,\n",
        "                   data = Concrete[ctrain,],\n",
        "                   linout=T,\n",
        "                   skip=T,\n",
        "                   maxit=10000,\n",
        "                   size=3,\n",
        "                   decay=0)\n"
      ],
      "metadata": {
        "colab": {
          "base_uri": "https://localhost:8080/"
        },
        "id": "21cHnnscZFLB",
        "outputId": "de5f74ee-3bc2-4568-cb70-479e56456476"
      },
      "execution_count": 6,
      "outputs": [
        {
          "output_type": "stream",
          "name": "stdout",
          "text": [
            "# weights:  39\n",
            "initial  value 636221736.167207 \n",
            "iter  10 value 497781262.187748\n",
            "iter  20 value 63489917.165604\n",
            "iter  30 value 75974.931377\n",
            "iter  40 value 75876.131524\n",
            "iter  50 value 75771.327132\n",
            "final  value 75771.307642 \n",
            "converged\n"
          ]
        }
      ]
    },
    {
      "cell_type": "code",
      "source": [
        "#Getting the R^2 value\n",
        "cat(\"R-Squared\")\n",
        "as.numeric(cor(Concrete$Strength[ctrain],predict(Concrete.nn))^2)\n",
        "\n",
        "#Getting the RMSE\n",
        "cat(\"RMSE\")\n",
        "sqrt(mean((Concrete$Strength[ctrain]-predict(Concrete.nn))^2))"
      ],
      "metadata": {
        "colab": {
          "base_uri": "https://localhost:8080/",
          "height": 88
        },
        "id": "PLGJXCnDZQAS",
        "outputId": "3b7fc926-0850-4ecf-a405-97065d45f0cd"
      },
      "execution_count": 9,
      "outputs": [
        {
          "output_type": "stream",
          "name": "stdout",
          "text": [
            "R-Squared"
          ]
        },
        {
          "output_type": "display_data",
          "data": {
            "text/html": [
              "0.600429212732995"
            ],
            "text/markdown": "0.600429212732995",
            "text/latex": "0.600429212732995",
            "text/plain": [
              "[1] 0.6004292"
            ]
          },
          "metadata": {}
        },
        {
          "output_type": "stream",
          "name": "stdout",
          "text": [
            "RMSE"
          ]
        },
        {
          "output_type": "display_data",
          "data": {
            "text/html": [
              "10.5020485727338"
            ],
            "text/markdown": "10.5020485727338",
            "text/latex": "10.5020485727338",
            "text/plain": [
              "[1] 10.50205"
            ]
          },
          "metadata": {}
        }
      ]
    },
    {
      "cell_type": "markdown",
      "source": [
        "## Adjusting tuning parameters to get a better fit"
      ],
      "metadata": {
        "id": "7Hzp5k3WZzHf"
      }
    },
    {
      "cell_type": "code",
      "source": [
        "Concrete.nn = nnet(Strength ~ . ,\n",
        "                   data = Concrete[ctrain,],\n",
        "                   linout=T,\n",
        "                   skip=T,\n",
        "                   maxit=10000,\n",
        "                   size=3,\n",
        "                   decay=0.01)\n"
      ],
      "metadata": {
        "colab": {
          "base_uri": "https://localhost:8080/"
        },
        "id": "GLFIQzUJZ6r2",
        "outputId": "6de6f6e3-663b-47e0-b9fc-1ea20cf7da10"
      },
      "execution_count": 10,
      "outputs": [
        {
          "output_type": "stream",
          "name": "stdout",
          "text": [
            "# weights:  39\n",
            "initial  value 75959272.795377 \n",
            "iter  10 value 15897968.221017\n",
            "final  value 76000.437406 \n",
            "converged\n"
          ]
        }
      ]
    },
    {
      "cell_type": "code",
      "source": [
        "#Getting the R^2 value\n",
        "cat(\"R-Squared\")\n",
        "as.numeric(cor(Concrete$Strength[ctrain],predict(Concrete.nn))^2)\n",
        "\n",
        "#Getting the RMSE\n",
        "cat(\"RMSE\")\n",
        "sqrt(mean((Concrete$Strength[ctrain]-predict(Concrete.nn))^2))"
      ],
      "metadata": {
        "colab": {
          "base_uri": "https://localhost:8080/",
          "height": 88
        },
        "id": "evTgfTf3aTsN",
        "outputId": "2e135087-6df1-445c-a7b9-f71e11a85888"
      },
      "execution_count": 11,
      "outputs": [
        {
          "output_type": "stream",
          "name": "stdout",
          "text": [
            "R-Squared"
          ]
        },
        {
          "output_type": "display_data",
          "data": {
            "text/html": [
              "0.599270052588745"
            ],
            "text/markdown": "0.599270052588745",
            "text/latex": "0.599270052588745",
            "text/plain": [
              "[1] 0.5992701"
            ]
          },
          "metadata": {}
        },
        {
          "output_type": "stream",
          "name": "stdout",
          "text": [
            "RMSE"
          ]
        },
        {
          "output_type": "display_data",
          "data": {
            "text/html": [
              "10.5172711015285"
            ],
            "text/markdown": "10.5172711015285",
            "text/latex": "10.5172711015285",
            "text/plain": [
              "[1] 10.51727"
            ]
          },
          "metadata": {}
        }
      ]
    },
    {
      "cell_type": "code",
      "source": [
        "Concrete.nn = nnet(Strength ~ . ,\n",
        "                   data = Concrete[ctrain,],\n",
        "                   linout=T,\n",
        "                   skip=T,\n",
        "                   maxit=10000,\n",
        "                   size=9,\n",
        "                   decay=0.01)\n"
      ],
      "metadata": {
        "colab": {
          "base_uri": "https://localhost:8080/"
        },
        "id": "jia6y-4BaEZ3",
        "outputId": "39aa4dc2-ef8d-413c-b8e4-b99b71dfd6b3"
      },
      "execution_count": 12,
      "outputs": [
        {
          "output_type": "stream",
          "name": "stdout",
          "text": [
            "# weights:  99\n",
            "initial  value 124578404.892073 \n",
            "iter  10 value 95834933.003252\n",
            "iter  20 value 10495422.530112\n",
            "iter  30 value 75288.283377\n",
            "iter  40 value 71437.536526\n",
            "iter  50 value 70939.613564\n",
            "iter  60 value 70483.555680\n",
            "iter  70 value 69685.291353\n",
            "iter  80 value 69607.827493\n",
            "iter  90 value 69216.677439\n",
            "iter 100 value 69113.835942\n",
            "iter 110 value 69061.484250\n",
            "iter 120 value 68969.172649\n",
            "iter 130 value 68714.230674\n",
            "iter 140 value 68636.281568\n",
            "iter 150 value 68573.787454\n",
            "iter 160 value 68385.083385\n",
            "iter 170 value 68323.538994\n",
            "iter 180 value 68276.308944\n",
            "iter 190 value 68105.884178\n",
            "iter 200 value 67725.452536\n",
            "iter 210 value 66203.988564\n",
            "iter 220 value 62110.240364\n",
            "iter 230 value 61885.808321\n",
            "iter 240 value 61829.893217\n",
            "iter 250 value 61824.023590\n",
            "iter 260 value 61822.002918\n",
            "iter 270 value 61819.580963\n",
            "iter 280 value 61804.375269\n",
            "iter 290 value 61561.330244\n",
            "iter 300 value 61495.703541\n",
            "iter 310 value 61378.035353\n",
            "iter 320 value 60917.139831\n",
            "iter 330 value 60674.697848\n",
            "iter 340 value 60413.233875\n",
            "iter 350 value 58900.227122\n",
            "iter 360 value 58064.642853\n",
            "iter 370 value 57995.361006\n",
            "iter 380 value 57937.950047\n",
            "iter 390 value 57840.327559\n",
            "iter 400 value 57832.372897\n",
            "iter 410 value 57694.825631\n",
            "iter 420 value 57647.930191\n",
            "iter 430 value 57647.622663\n",
            "iter 440 value 57591.023139\n",
            "iter 450 value 57586.014622\n",
            "iter 460 value 57556.097408\n",
            "iter 470 value 57431.108391\n",
            "iter 480 value 57262.070148\n",
            "iter 490 value 56933.660284\n",
            "iter 500 value 56886.105423\n",
            "iter 510 value 56699.879671\n",
            "iter 520 value 56555.897371\n",
            "iter 530 value 56526.856636\n",
            "iter 540 value 56401.140566\n",
            "iter 550 value 56369.749615\n",
            "iter 560 value 56303.039044\n",
            "iter 570 value 56281.109567\n",
            "iter 580 value 54102.296378\n",
            "iter 590 value 53759.953451\n",
            "iter 600 value 53708.769664\n",
            "iter 610 value 53366.089295\n",
            "iter 620 value 52812.083997\n",
            "iter 630 value 52784.336405\n",
            "iter 640 value 52781.591429\n",
            "iter 650 value 52676.846249\n",
            "iter 660 value 52601.738184\n",
            "iter 670 value 52416.113679\n",
            "iter 680 value 52314.744678\n",
            "iter 690 value 52299.664911\n",
            "iter 700 value 52248.163985\n",
            "iter 710 value 51942.343553\n",
            "iter 720 value 51927.911618\n",
            "iter 730 value 51924.893587\n",
            "iter 740 value 51865.533417\n",
            "iter 750 value 51811.307171\n",
            "iter 760 value 51781.724440\n",
            "iter 770 value 51167.574504\n",
            "iter 780 value 51013.029792\n",
            "iter 790 value 50936.764085\n",
            "iter 800 value 50863.970678\n",
            "iter 810 value 50814.486452\n",
            "iter 820 value 50590.847052\n",
            "iter 830 value 50498.582584\n",
            "iter 840 value 50443.909887\n",
            "iter 850 value 50406.514480\n",
            "iter 860 value 49749.322645\n",
            "iter 870 value 49092.456022\n",
            "iter 880 value 49028.818023\n",
            "iter 890 value 49013.223970\n",
            "iter 900 value 49010.357160\n",
            "iter 910 value 48990.527393\n",
            "iter 920 value 48967.518249\n",
            "iter 930 value 48952.070780\n",
            "iter 940 value 48942.090931\n",
            "iter 950 value 48907.492564\n",
            "iter 960 value 48907.263403\n",
            "iter 970 value 48906.970436\n",
            "iter 980 value 48906.918730\n",
            "iter 990 value 48906.846026\n",
            "iter1000 value 48351.830646\n",
            "iter1010 value 48234.149293\n",
            "iter1020 value 48136.639757\n",
            "iter1030 value 47995.949377\n",
            "iter1040 value 47972.417263\n",
            "iter1050 value 47434.980591\n",
            "iter1060 value 46873.904296\n",
            "iter1070 value 46789.674527\n",
            "iter1080 value 46482.422985\n",
            "iter1090 value 45776.254631\n",
            "iter1100 value 45742.474362\n",
            "iter1110 value 45553.551922\n",
            "iter1120 value 45513.208568\n",
            "iter1130 value 45491.603140\n",
            "iter1140 value 44497.503925\n",
            "iter1150 value 39235.138418\n",
            "iter1160 value 36846.223980\n",
            "iter1170 value 36314.545059\n",
            "iter1180 value 36193.183964\n",
            "iter1190 value 36119.149888\n",
            "iter1200 value 36066.785278\n",
            "iter1210 value 36017.287286\n",
            "iter1220 value 34936.532005\n",
            "iter1230 value 33146.261142\n",
            "iter1240 value 31874.349050\n",
            "iter1250 value 31364.791976\n",
            "iter1260 value 31095.877002\n",
            "iter1270 value 30389.801807\n",
            "iter1280 value 23920.289655\n",
            "iter1290 value 22015.314264\n",
            "iter1300 value 21389.451137\n",
            "iter1310 value 21195.116893\n",
            "iter1320 value 21139.806121\n",
            "iter1330 value 21081.333510\n",
            "iter1340 value 21048.263322\n",
            "iter1350 value 21030.114729\n",
            "iter1360 value 21002.819830\n",
            "iter1370 value 20992.823686\n",
            "iter1380 value 20985.891731\n",
            "iter1390 value 20952.113259\n",
            "iter1400 value 20896.424690\n",
            "iter1410 value 20880.809466\n",
            "iter1420 value 20859.068408\n",
            "iter1430 value 20849.945566\n",
            "iter1440 value 20798.761086\n",
            "iter1450 value 20775.942066\n",
            "iter1460 value 20664.832287\n",
            "iter1470 value 20456.304004\n",
            "iter1480 value 20268.867852\n",
            "iter1490 value 20194.149775\n",
            "iter1500 value 20191.605106\n",
            "iter1510 value 20185.924068\n",
            "iter1520 value 20184.157920\n",
            "iter1530 value 20178.728658\n",
            "iter1540 value 20171.472713\n",
            "iter1550 value 20170.334463\n",
            "iter1560 value 20094.037709\n",
            "iter1570 value 20030.208502\n",
            "iter1580 value 20024.416323\n",
            "iter1590 value 20012.457721\n",
            "iter1600 value 20007.385870\n",
            "iter1610 value 19885.226417\n",
            "iter1620 value 19811.407962\n",
            "iter1630 value 19780.620901\n",
            "iter1640 value 19748.469325\n",
            "iter1650 value 19631.337652\n",
            "iter1660 value 19580.299575\n",
            "iter1670 value 19484.871796\n",
            "iter1680 value 19448.405666\n",
            "iter1690 value 19421.535004\n",
            "iter1700 value 19419.697620\n",
            "iter1710 value 19394.712081\n",
            "iter1720 value 19290.014640\n",
            "iter1730 value 18934.267711\n",
            "iter1740 value 18808.217203\n",
            "iter1750 value 18747.292743\n",
            "iter1760 value 18706.412627\n",
            "iter1770 value 18663.839329\n",
            "iter1780 value 18656.151832\n",
            "iter1790 value 18653.164234\n",
            "iter1800 value 18648.675908\n",
            "iter1810 value 18646.236662\n",
            "iter1820 value 18645.834910\n",
            "iter1830 value 18645.670295\n",
            "iter1840 value 18645.595488\n",
            "final  value 18645.560210 \n",
            "converged\n"
          ]
        }
      ]
    },
    {
      "cell_type": "code",
      "source": [
        "#Getting the R^2 value\n",
        "cat(\"R-Squared\")\n",
        "as.numeric(cor(Concrete$Strength[ctrain],predict(Concrete.nn))^2)\n",
        "\n",
        "#Getting the RMSE\n",
        "cat(\"RMSE\")\n",
        "sqrt(mean((Concrete$Strength[ctrain]-predict(Concrete.nn))^2))"
      ],
      "metadata": {
        "colab": {
          "base_uri": "https://localhost:8080/",
          "height": 88
        },
        "id": "zpTb9jxqaUR4",
        "outputId": "b5c370b7-169d-443c-8464-370677e339e0"
      },
      "execution_count": 13,
      "outputs": [
        {
          "output_type": "stream",
          "name": "stdout",
          "text": [
            "R-Squared"
          ]
        },
        {
          "output_type": "display_data",
          "data": {
            "text/html": [
              "0.903464009371926"
            ],
            "text/markdown": "0.903464009371926",
            "text/latex": "0.903464009371926",
            "text/plain": [
              "[1] 0.903464"
            ]
          },
          "metadata": {}
        },
        {
          "output_type": "stream",
          "name": "stdout",
          "text": [
            "RMSE"
          ]
        },
        {
          "output_type": "display_data",
          "data": {
            "text/html": [
              "5.16210601101274"
            ],
            "text/markdown": "5.16210601101274",
            "text/latex": "5.16210601101274",
            "text/plain": [
              "[1] 5.162106"
            ]
          },
          "metadata": {}
        }
      ]
    },
    {
      "cell_type": "code",
      "source": [
        "Concrete.nn = nnet(Strength ~ . ,\n",
        "                   data = Concrete[ctrain,],\n",
        "                   linout=T,\n",
        "                   skip=T,\n",
        "                   maxit=10000,\n",
        "                   size=3,\n",
        "                   decay=0.1)\n"
      ],
      "metadata": {
        "colab": {
          "base_uri": "https://localhost:8080/"
        },
        "id": "w3PgkjnFaM_b",
        "outputId": "0d1116d5-a950-4477-ffde-e5acf52cc26e"
      },
      "execution_count": 14,
      "outputs": [
        {
          "output_type": "stream",
          "name": "stdout",
          "text": [
            "# weights:  39\n",
            "initial  value 33449356.465135 \n",
            "iter  10 value 3544995.820070\n",
            "iter  20 value 76046.503884\n",
            "iter  30 value 76031.758434\n",
            "iter  40 value 74276.910594\n",
            "iter  50 value 67814.271062\n",
            "iter  60 value 66426.256497\n",
            "iter  70 value 65068.031665\n",
            "iter  80 value 64175.541763\n",
            "iter  90 value 62512.183414\n",
            "iter 100 value 61742.507611\n",
            "iter 110 value 61111.672078\n",
            "iter 120 value 61021.071681\n",
            "iter 130 value 61001.169944\n",
            "iter 140 value 60988.209996\n",
            "iter 150 value 60963.435834\n",
            "iter 160 value 60935.498475\n",
            "iter 170 value 60928.444985\n",
            "iter 180 value 60633.486689\n",
            "iter 190 value 60535.487994\n",
            "iter 200 value 60520.640298\n",
            "iter 210 value 59283.940166\n",
            "iter 220 value 59013.449455\n",
            "iter 230 value 57698.907718\n",
            "iter 240 value 56807.315810\n",
            "iter 250 value 56405.071903\n",
            "iter 260 value 56138.162696\n",
            "iter 270 value 55192.622117\n",
            "iter 280 value 53344.512475\n",
            "iter 290 value 52629.782049\n",
            "iter 300 value 52377.373115\n",
            "iter 310 value 52067.916793\n",
            "iter 320 value 49733.878422\n",
            "iter 330 value 49436.749376\n",
            "iter 340 value 49049.317914\n",
            "iter 350 value 48887.240203\n",
            "iter 360 value 45382.075483\n",
            "iter 370 value 45345.272487\n",
            "iter 380 value 45340.540757\n",
            "iter 390 value 45335.259400\n",
            "iter 400 value 45331.070576\n",
            "iter 410 value 45327.012624\n",
            "iter 420 value 45312.348654\n",
            "iter 430 value 45303.257204\n",
            "iter 440 value 45298.658464\n",
            "iter 450 value 45266.639201\n",
            "iter 460 value 45210.786786\n",
            "iter 470 value 45010.007600\n",
            "iter 480 value 44600.216655\n",
            "iter 490 value 44575.164851\n",
            "iter 500 value 43227.842480\n",
            "iter 510 value 42570.739998\n",
            "iter 520 value 42479.090105\n",
            "iter 530 value 42447.572679\n",
            "iter 540 value 42433.117523\n",
            "iter 550 value 42415.709565\n",
            "iter 560 value 42385.300333\n",
            "iter 570 value 42367.004247\n",
            "iter 580 value 42310.236323\n",
            "iter 590 value 42231.621656\n",
            "iter 600 value 42202.699343\n",
            "iter 610 value 42166.487702\n",
            "iter 620 value 42021.373612\n",
            "iter 630 value 41951.361056\n",
            "iter 640 value 41712.376654\n",
            "iter 650 value 41674.930839\n",
            "iter 660 value 41666.971298\n",
            "iter 670 value 41650.590959\n",
            "iter 680 value 41643.802738\n",
            "iter 690 value 41639.240567\n",
            "iter 700 value 41593.876026\n",
            "iter 710 value 41582.803809\n",
            "iter 720 value 41556.822742\n",
            "iter 730 value 41549.077347\n",
            "iter 740 value 41545.533441\n",
            "iter 750 value 41540.963416\n",
            "iter 760 value 41523.448573\n",
            "iter 770 value 41520.407049\n",
            "iter 780 value 41519.858476\n",
            "iter 790 value 41519.022726\n",
            "iter 800 value 41518.498915\n",
            "final  value 41518.262549 \n",
            "converged\n"
          ]
        }
      ]
    },
    {
      "cell_type": "code",
      "source": [
        "#Getting the R^2 value\n",
        "cat(\"R-Squared\")\n",
        "as.numeric(cor(Concrete$Strength[ctrain],predict(Concrete.nn))^2)\n",
        "\n",
        "#Getting the RMSE\n",
        "cat(\"RMSE\")\n",
        "sqrt(mean((Concrete$Strength[ctrain]-predict(Concrete.nn))^2))"
      ],
      "metadata": {
        "colab": {
          "base_uri": "https://localhost:8080/",
          "height": 88
        },
        "id": "LDIi_G4jaU9q",
        "outputId": "45141031-d2cc-4472-b95d-c8455b5facee"
      },
      "execution_count": 15,
      "outputs": [
        {
          "output_type": "stream",
          "name": "stdout",
          "text": [
            "R-Squared"
          ]
        },
        {
          "output_type": "display_data",
          "data": {
            "text/html": [
              "0.788650934784964"
            ],
            "text/markdown": "0.788650934784964",
            "text/latex": "0.788650934784964",
            "text/plain": [
              "[1] 0.7886509"
            ]
          },
          "metadata": {}
        },
        {
          "output_type": "stream",
          "name": "stdout",
          "text": [
            "RMSE"
          ]
        },
        {
          "output_type": "display_data",
          "data": {
            "text/html": [
              "7.63962062435229"
            ],
            "text/markdown": "7.63962062435229",
            "text/latex": "7.63962062435229",
            "text/plain": [
              "[1] 7.639621"
            ]
          },
          "metadata": {}
        }
      ]
    },
    {
      "cell_type": "code",
      "source": [
        "Concrete.nn = nnet(Strength ~ . ,\n",
        "                   data = Concrete[ctrain,],\n",
        "                   linout=T,\n",
        "                   skip=T,\n",
        "                   maxit=10000,\n",
        "                   size=9,\n",
        "                   decay=0.1\n",
        ")"
      ],
      "metadata": {
        "colab": {
          "base_uri": "https://localhost:8080/"
        },
        "id": "ZQFOsGC3aOny",
        "outputId": "152e7ef9-9dea-42ce-e59b-a4f07d42d373"
      },
      "execution_count": 24,
      "outputs": [
        {
          "output_type": "stream",
          "name": "stdout",
          "text": [
            "# weights:  99\n",
            "initial  value 335110797.023032 \n",
            "iter  10 value 15832084.712125\n",
            "iter  20 value 2727186.626571\n",
            "iter  30 value 682409.817211\n",
            "iter  40 value 205315.079657\n",
            "iter  50 value 168517.493770\n",
            "iter  60 value 78158.933215\n",
            "iter  70 value 76396.289390\n",
            "iter  80 value 76288.963611\n",
            "iter  90 value 76117.618483\n",
            "iter 100 value 76009.873728\n",
            "iter 110 value 75385.437384\n",
            "iter 120 value 74889.400875\n",
            "iter 130 value 74357.399107\n",
            "iter 140 value 73267.688126\n",
            "iter 150 value 73169.013661\n",
            "iter 160 value 72285.864959\n",
            "iter 170 value 70983.751918\n",
            "iter 180 value 70779.459858\n",
            "iter 190 value 70738.894814\n",
            "iter 200 value 70407.461708\n",
            "iter 210 value 70120.949351\n",
            "iter 220 value 69956.051915\n",
            "iter 230 value 69852.530694\n",
            "iter 240 value 69803.498550\n",
            "iter 250 value 69655.598027\n",
            "iter 260 value 69616.459669\n",
            "iter 270 value 69615.757327\n",
            "iter 280 value 69612.965643\n",
            "iter 290 value 69610.239284\n",
            "iter 300 value 69608.212909\n",
            "iter 310 value 69598.902558\n",
            "iter 320 value 69496.474474\n",
            "iter 330 value 69449.261704\n",
            "iter 340 value 69390.414519\n",
            "iter 350 value 69194.066801\n",
            "iter 360 value 69140.106416\n",
            "iter 370 value 69137.770901\n",
            "iter 380 value 69136.704568\n",
            "iter 390 value 69134.748286\n",
            "iter 400 value 69129.701836\n",
            "iter 410 value 69125.848756\n",
            "iter 420 value 69123.265400\n",
            "iter 430 value 69031.819495\n",
            "iter 440 value 69012.809052\n",
            "iter 450 value 68952.633092\n",
            "iter 460 value 68914.463805\n",
            "iter 470 value 68902.584391\n",
            "iter 480 value 68888.119399\n",
            "iter 490 value 68603.189359\n",
            "iter 500 value 67593.520481\n",
            "iter 510 value 66468.091228\n",
            "iter 520 value 66095.330963\n",
            "iter 530 value 65173.059595\n",
            "iter 540 value 62474.413447\n",
            "iter 550 value 62219.070923\n",
            "iter 560 value 60023.909623\n",
            "iter 570 value 52453.933823\n",
            "iter 580 value 46547.716573\n",
            "iter 590 value 41219.040215\n",
            "iter 600 value 40262.243838\n",
            "iter 610 value 38523.417070\n",
            "iter 620 value 37867.327538\n",
            "iter 630 value 36913.163386\n",
            "iter 640 value 36436.299916\n",
            "iter 650 value 35038.638807\n",
            "iter 660 value 34199.848241\n",
            "iter 670 value 30908.851122\n",
            "iter 680 value 30152.492607\n",
            "iter 690 value 29699.207256\n",
            "iter 700 value 29384.624083\n",
            "iter 710 value 29297.819646\n",
            "iter 720 value 28893.530814\n",
            "iter 730 value 28459.643739\n",
            "iter 740 value 28130.589407\n",
            "iter 750 value 27445.807735\n",
            "iter 760 value 26577.130695\n",
            "iter 770 value 25732.780964\n",
            "iter 780 value 25265.673344\n",
            "iter 790 value 25024.486474\n",
            "iter 800 value 24898.385813\n",
            "iter 810 value 24837.491044\n",
            "iter 820 value 24824.846168\n",
            "iter 830 value 24806.801432\n",
            "iter 840 value 24789.795806\n",
            "iter 850 value 24770.067440\n",
            "iter 860 value 24764.309827\n",
            "iter 870 value 24744.377225\n",
            "iter 880 value 24719.251659\n",
            "iter 890 value 24697.320250\n",
            "iter 900 value 24678.646813\n",
            "iter 910 value 24635.485527\n",
            "iter 920 value 24617.139521\n",
            "iter 930 value 24612.331954\n",
            "iter 940 value 24586.130858\n",
            "iter 950 value 24547.665002\n",
            "iter 960 value 24463.226020\n",
            "iter 970 value 24430.325781\n",
            "iter 980 value 24426.691163\n",
            "iter 990 value 24422.640028\n",
            "iter1000 value 24419.501617\n",
            "iter1010 value 24418.688758\n",
            "iter1020 value 24418.035199\n",
            "iter1030 value 24415.621616\n",
            "iter1040 value 24413.692832\n",
            "iter1050 value 24412.697019\n",
            "iter1060 value 24411.409235\n",
            "iter1070 value 24409.390928\n",
            "iter1080 value 24398.245000\n",
            "iter1090 value 24263.752846\n",
            "iter1100 value 24067.564318\n",
            "iter1110 value 23985.188880\n",
            "iter1120 value 23945.439923\n",
            "iter1130 value 23930.527197\n",
            "iter1140 value 23924.205777\n",
            "iter1150 value 23908.091242\n",
            "iter1160 value 23886.745554\n",
            "iter1170 value 23870.372549\n",
            "iter1180 value 23862.762656\n",
            "iter1190 value 23845.869572\n",
            "iter1200 value 23835.107167\n",
            "iter1210 value 23831.899783\n",
            "iter1220 value 23831.882304\n",
            "iter1230 value 23831.317585\n",
            "iter1240 value 23829.212876\n",
            "iter1250 value 23825.137164\n",
            "iter1260 value 23798.899091\n",
            "iter1270 value 23791.786690\n",
            "iter1280 value 23779.791096\n",
            "iter1290 value 23752.721422\n",
            "iter1300 value 23742.815356\n",
            "iter1310 value 23742.019154\n",
            "iter1320 value 23741.674441\n",
            "iter1330 value 23739.906845\n",
            "iter1340 value 23739.738728\n",
            "iter1350 value 23739.605211\n",
            "iter1360 value 23737.172476\n",
            "final  value 23736.674566 \n",
            "converged\n"
          ]
        }
      ]
    },
    {
      "cell_type": "code",
      "source": [
        "#Getting the R^2 value\n",
        "cat(\"R-Squared\")\n",
        "as.numeric(cor(Concrete$Strength[ctrain],predict(Concrete.nn))^2)\n",
        "\n",
        "#Getting the RMSE\n",
        "cat(\"RMSE\")\n",
        "sqrt(mean((Concrete$Strength[ctrain]-predict(Concrete.nn))^2))"
      ],
      "metadata": {
        "colab": {
          "base_uri": "https://localhost:8080/",
          "height": 88
        },
        "id": "SAsLWQnnaVir",
        "outputId": "ea7f9040-1c5f-4e5e-e780-b374dbf2e5f9"
      },
      "execution_count": 25,
      "outputs": [
        {
          "output_type": "stream",
          "name": "stdout",
          "text": [
            "R-Squared"
          ]
        },
        {
          "output_type": "display_data",
          "data": {
            "text/html": [
              "0.877385647945135"
            ],
            "text/markdown": "0.877385647945135",
            "text/latex": "0.877385647945135",
            "text/plain": [
              "[1] 0.8773856"
            ]
          },
          "metadata": {}
        },
        {
          "output_type": "stream",
          "name": "stdout",
          "text": [
            "RMSE"
          ]
        },
        {
          "output_type": "display_data",
          "data": {
            "text/html": [
              "5.8178126784979"
            ],
            "text/markdown": "5.8178126784979",
            "text/latex": "5.8178126784979",
            "text/plain": [
              "[1] 5.817813"
            ]
          },
          "metadata": {}
        }
      ]
    },
    {
      "cell_type": "markdown",
      "source": [
        "More adjustment can be done, but for simplicity only 4 trials were run\n"
      ],
      "metadata": {
        "id": "U_yEQKcTaWIC"
      }
    },
    {
      "cell_type": "markdown",
      "source": [
        "# Fitting the Final Neural Net"
      ],
      "metadata": {
        "id": "aTDbSZpbaq6L"
      }
    },
    {
      "cell_type": "markdown",
      "source": [
        "This is done with the validation set "
      ],
      "metadata": {
        "id": "w-zY78hNb_KB"
      }
    },
    {
      "cell_type": "code",
      "source": [
        "ConcreteFin.nn = nnet(Strength ~ . ,\n",
        "                   data = Concrete[ctrain,],\n",
        "                   linout=T,\n",
        "                   skip=T,\n",
        "                   maxit=10000,\n",
        "                   size=9,\n",
        "                   decay=0.1\n",
        ")\n",
        "\n",
        "cat(\"R-Squared\")\n",
        "as.numeric(cor(Concrete$Strength[-ctrain],predict(ConcreteFin.nn, newdata = Concrete[-ctrain,]))^2)\n",
        "\n",
        "cat(\"RMSE\")\n",
        "sqrt(mean((Concrete$Strength[-ctrain]-predict(ConcreteFin.nn, newdata = Concrete[-ctrain,]))^2))\n"
      ],
      "metadata": {
        "colab": {
          "base_uri": "https://localhost:8080/",
          "height": 1000
        },
        "id": "feKs4f-ZauzF",
        "outputId": "a9eb1425-53d5-43eb-de44-446db6876508"
      },
      "execution_count": 26,
      "outputs": [
        {
          "output_type": "stream",
          "name": "stdout",
          "text": [
            "# weights:  99\n",
            "initial  value 49812572.032460 \n",
            "iter  10 value 33019499.540710\n",
            "iter  20 value 574749.441270\n",
            "iter  30 value 529341.258508\n",
            "iter  40 value 528794.882509\n",
            "iter  50 value 526552.941664\n",
            "iter  60 value 523573.439451\n",
            "iter  70 value 522392.765409\n",
            "iter  80 value 513139.486488\n",
            "iter  90 value 117159.999069\n",
            "iter 100 value 95944.280005\n",
            "iter 110 value 84057.390195\n",
            "iter 120 value 78363.595632\n",
            "iter 130 value 76176.256354\n",
            "iter 140 value 71876.615738\n",
            "iter 150 value 68616.053238\n",
            "iter 160 value 67819.084410\n",
            "iter 170 value 66096.332177\n",
            "iter 180 value 65512.378766\n",
            "iter 190 value 65088.881097\n",
            "iter 200 value 64522.280805\n",
            "iter 210 value 64362.290896\n",
            "iter 220 value 61796.212829\n",
            "iter 230 value 60803.800643\n",
            "iter 240 value 60569.067720\n",
            "iter 250 value 60383.818842\n",
            "iter 260 value 56115.540493\n",
            "iter 270 value 53490.155017\n",
            "iter 280 value 49585.062411\n",
            "iter 290 value 46680.958338\n",
            "iter 300 value 44619.821930\n",
            "iter 310 value 43166.801598\n",
            "iter 320 value 42944.617020\n",
            "iter 330 value 42879.945187\n",
            "iter 340 value 42790.357224\n",
            "iter 350 value 42527.429918\n",
            "iter 360 value 42312.976560\n",
            "iter 370 value 42222.457347\n",
            "iter 380 value 42107.082213\n",
            "iter 390 value 41415.332785\n",
            "iter 400 value 41258.424557\n",
            "iter 410 value 41199.983945\n",
            "iter 420 value 41143.272839\n",
            "iter 430 value 40412.499014\n",
            "iter 440 value 40180.037887\n",
            "iter 450 value 40129.516073\n",
            "iter 460 value 40095.573455\n",
            "iter 470 value 39966.646352\n",
            "iter 480 value 39938.209521\n",
            "iter 490 value 39917.229780\n",
            "iter 500 value 39833.223629\n",
            "iter 510 value 39749.034099\n",
            "iter 520 value 39707.423637\n",
            "iter 530 value 39686.993824\n",
            "iter 540 value 39641.393798\n",
            "iter 550 value 39564.724888\n",
            "iter 560 value 39523.095197\n",
            "iter 570 value 39500.669340\n",
            "iter 580 value 39465.024987\n",
            "iter 590 value 38759.929459\n",
            "iter 600 value 38684.638554\n",
            "iter 610 value 38611.614698\n",
            "iter 620 value 38518.657243\n",
            "iter 630 value 38432.721075\n",
            "iter 640 value 38419.742320\n",
            "iter 650 value 38401.864064\n",
            "iter 660 value 38302.182456\n",
            "iter 670 value 37912.577564\n",
            "iter 680 value 37827.259406\n",
            "iter 690 value 37818.345518\n",
            "iter 700 value 37810.753484\n",
            "iter 710 value 37805.559688\n",
            "iter 720 value 37791.565279\n",
            "iter 730 value 37704.742017\n",
            "iter 740 value 37560.996688\n",
            "iter 750 value 37458.687269\n",
            "iter 760 value 37185.979246\n",
            "iter 770 value 37064.588944\n",
            "iter 780 value 36893.522250\n",
            "iter 790 value 36871.814892\n",
            "iter 800 value 36833.529578\n",
            "iter 810 value 36150.112859\n",
            "iter 820 value 32509.786625\n",
            "iter 830 value 31682.762535\n",
            "iter 840 value 31094.080325\n",
            "iter 850 value 31010.916722\n",
            "iter 860 value 30180.187492\n",
            "iter 870 value 30070.481223\n",
            "iter 880 value 29928.487687\n",
            "iter 890 value 29849.217567\n",
            "iter 900 value 29699.544653\n",
            "iter 910 value 28968.703284\n",
            "iter 920 value 28808.165941\n",
            "iter 930 value 28743.680802\n",
            "iter 940 value 28706.807585\n",
            "iter 950 value 28620.272401\n",
            "iter 960 value 28293.758454\n",
            "iter 970 value 27435.045381\n",
            "iter 980 value 26413.371899\n",
            "iter 990 value 25954.848673\n",
            "iter1000 value 25488.740271\n",
            "iter1010 value 25374.642927\n",
            "iter1020 value 25331.657775\n",
            "iter1030 value 25269.208788\n",
            "iter1040 value 25128.334389\n",
            "iter1050 value 25101.289390\n",
            "iter1060 value 24986.871088\n",
            "iter1070 value 24798.005331\n",
            "iter1080 value 24695.643084\n",
            "iter1090 value 24567.824002\n",
            "iter1100 value 24224.821208\n",
            "iter1110 value 24121.114945\n",
            "iter1120 value 23935.829634\n",
            "iter1130 value 22753.416735\n",
            "iter1140 value 22330.855185\n",
            "iter1150 value 22082.350108\n",
            "iter1160 value 21969.768702\n",
            "iter1170 value 21846.919121\n",
            "iter1180 value 21763.090180\n",
            "iter1190 value 21700.034885\n",
            "iter1200 value 21581.109570\n",
            "iter1210 value 21118.020450\n",
            "iter1220 value 20893.864465\n",
            "iter1230 value 20856.112270\n",
            "iter1240 value 20774.863407\n",
            "iter1250 value 20731.522222\n",
            "iter1260 value 20710.704931\n",
            "iter1270 value 20685.199540\n",
            "iter1280 value 20662.270683\n",
            "iter1290 value 20601.634461\n",
            "iter1300 value 20156.071242\n",
            "iter1310 value 19794.952322\n",
            "iter1320 value 19525.532686\n",
            "iter1330 value 19519.247777\n",
            "iter1340 value 19487.290899\n",
            "iter1350 value 19427.323785\n",
            "iter1360 value 19401.972215\n",
            "iter1370 value 19392.570364\n",
            "iter1380 value 19388.220757\n",
            "iter1390 value 19358.905109\n",
            "iter1400 value 19285.099069\n",
            "iter1410 value 19259.446201\n",
            "iter1420 value 19251.121055\n",
            "iter1430 value 19250.059168\n",
            "iter1440 value 19245.184491\n",
            "iter1450 value 19242.124476\n",
            "iter1460 value 19238.277834\n",
            "iter1470 value 19236.164274\n",
            "iter1480 value 19230.788368\n",
            "iter1490 value 19227.633395\n",
            "iter1500 value 19224.258126\n",
            "iter1510 value 19222.527207\n",
            "iter1520 value 19220.183502\n",
            "iter1530 value 19217.647038\n",
            "iter1540 value 19192.330723\n",
            "iter1550 value 19167.632977\n",
            "iter1560 value 19154.106976\n",
            "iter1570 value 19145.606273\n",
            "iter1580 value 19143.668794\n",
            "iter1590 value 19142.377654\n",
            "iter1600 value 19140.171804\n",
            "iter1610 value 19114.849488\n",
            "iter1620 value 19043.263121\n",
            "iter1630 value 19024.992121\n",
            "iter1640 value 19015.714323\n",
            "iter1650 value 19012.780196\n",
            "iter1660 value 19010.858632\n",
            "iter1670 value 19009.487333\n",
            "iter1680 value 19009.433845\n",
            "iter1690 value 19009.403862\n",
            "iter1700 value 19009.255676\n",
            "iter1710 value 19009.000745\n",
            "iter1710 value 19009.000703\n",
            "iter1720 value 19008.986491\n",
            "final  value 19008.966645 \n",
            "converged\n",
            "R-Squared"
          ]
        },
        {
          "output_type": "display_data",
          "data": {
            "text/html": [
              "0.881892146847771"
            ],
            "text/markdown": "0.881892146847771",
            "text/latex": "0.881892146847771",
            "text/plain": [
              "[1] 0.8818921"
            ]
          },
          "metadata": {}
        },
        {
          "output_type": "stream",
          "name": "stdout",
          "text": [
            "RMSE"
          ]
        },
        {
          "output_type": "display_data",
          "data": {
            "text/html": [
              "5.83072156545476"
            ],
            "text/markdown": "5.83072156545476",
            "text/latex": "5.83072156545476",
            "text/plain": [
              "[1] 5.830722"
            ]
          },
          "metadata": {}
        }
      ]
    }
  ]
}