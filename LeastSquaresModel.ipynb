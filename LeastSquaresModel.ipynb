{
  "nbformat": 4,
  "nbformat_minor": 0,
  "metadata": {
    "colab": {
      "name": "LeastSquaresModel.ipynb",
      "provenance": [],
      "authorship_tag": "ABX9TyN0AvHltzQvUznvXUpcSW1q",
      "include_colab_link": true
    },
    "kernelspec": {
      "name": "ir",
      "display_name": "R"
    },
    "language_info": {
      "name": "R"
    }
  },
  "cells": [
    {
      "cell_type": "markdown",
      "metadata": {
        "id": "view-in-github",
        "colab_type": "text"
      },
      "source": [
        "<a href=\"https://colab.research.google.com/github/Zeke-Woods/Supervised_Learning_Code/blob/main/LeastSquaresModel.ipynb\" target=\"_parent\"><img src=\"https://colab.research.google.com/assets/colab-badge.svg\" alt=\"Open In Colab\"/></a>"
      ]
    },
    {
      "cell_type": "markdown",
      "source": [
        "## This is an Example of a Standard Least Squares Model "
      ],
      "metadata": {
        "id": "yHFBoXTfK59P"
      }
    },
    {
      "cell_type": "markdown",
      "source": [
        "dplyr is used for cleaner coding"
      ],
      "metadata": {
        "id": "111aGbOBLO-q"
      }
    },
    {
      "cell_type": "code",
      "source": [
        "library(dplyr)"
      ],
      "metadata": {
        "colab": {
          "base_uri": "https://localhost:8080/"
        },
        "id": "Wb907q-ELAhv",
        "outputId": "0cedff10-4d9b-494e-d684-54a12a1c9128"
      },
      "execution_count": 2,
      "outputs": [
        {
          "output_type": "stream",
          "name": "stderr",
          "text": [
            "\n",
            "Attaching package: ‘dplyr’\n",
            "\n",
            "\n",
            "The following objects are masked from ‘package:stats’:\n",
            "\n",
            "    filter, lag\n",
            "\n",
            "\n",
            "The following objects are masked from ‘package:base’:\n",
            "\n",
            "    intersect, setdiff, setequal, union\n",
            "\n",
            "\n"
          ]
        }
      ]
    },
    {
      "cell_type": "code",
      "source": [
        "#reading in the data\n",
        "Homes <- read.csv(\"KingCountyHomes_Train.csv\")"
      ],
      "metadata": {
        "id": "Xlx08fe2LNxi"
      },
      "execution_count": 1,
      "outputs": []
    },
    {
      "cell_type": "markdown",
      "source": [
        "A training set consisting of 70% of the original data was used\n"
      ],
      "metadata": {
        "id": "5-ff9lieLoV0"
      }
    },
    {
      "cell_type": "code",
      "source": [
        "#setting up a training and validation set\n",
        "dim(Homes)\n",
        "train = sample(1:16187,size=round(16187*.7,0),replace=F)"
      ],
      "metadata": {
        "colab": {
          "base_uri": "https://localhost:8080/",
          "height": 34
        },
        "id": "N2PIsZsfLfAe",
        "outputId": "cd7e1fe6-11c9-466b-e304-36c0811cc69f"
      },
      "execution_count": 15,
      "outputs": [
        {
          "output_type": "display_data",
          "data": {
            "text/html": [
              "<style>\n",
              ".list-inline {list-style: none; margin:0; padding: 0}\n",
              ".list-inline>li {display: inline-block}\n",
              ".list-inline>li:not(:last-child)::after {content: \"\\00b7\"; padding: 0 .5ex}\n",
              "</style>\n",
              "<ol class=list-inline><li>16181</li><li>20</li></ol>\n"
            ],
            "text/markdown": "1. 16181\n2. 20\n\n\n",
            "text/latex": "\\begin{enumerate*}\n\\item 16181\n\\item 20\n\\end{enumerate*}\n",
            "text/plain": [
              "[1] 16181    20"
            ]
          },
          "metadata": {}
        }
      ]
    },
    {
      "cell_type": "markdown",
      "source": [
        "Factor variables were recoded as factors "
      ],
      "metadata": {
        "id": "d36t0TatLyoE"
      }
    },
    {
      "cell_type": "code",
      "source": [
        "#fix the data types\n",
        "str(Homes)\n",
        "Homes$zipcode = as.factor(Homes$zipcode)\n",
        "Homes$waterfront = as.factor(Homes$waterfront)\n",
        "Homes$view = as.factor(Homes$view)\n",
        "Homes$condition = as.factor(Homes$condition)\n",
        "Homes$renovated = as.factor(Homes$renovated)\n",
        "Homes$grade = as.factor(Homes$grade)"
      ],
      "metadata": {
        "colab": {
          "base_uri": "https://localhost:8080/"
        },
        "id": "W_9051MyLxaL",
        "outputId": "2bbd98c4-1d42-4f30-b2d4-8d564a7a28a5"
      },
      "execution_count": 4,
      "outputs": [
        {
          "output_type": "stream",
          "name": "stdout",
          "text": [
            "'data.frame':\t16187 obs. of  20 variables:\n",
            " $ price        : int  221900 538000 180000 510000 1230000 257500 291850 229500 323000 662500 ...\n",
            " $ bedrooms     : int  3 3 2 3 4 3 3 3 3 3 ...\n",
            " $ bathrooms    : num  1 2.25 1 2 4.5 2.25 1.5 1 2.5 2.5 ...\n",
            " $ sqft_living  : int  1180 2570 770 1680 5420 1715 1060 1780 1890 3560 ...\n",
            " $ sqft_lot     : int  5650 7242 10000 8080 101930 6819 9711 7470 6560 9796 ...\n",
            " $ floors       : num  1 2 1 1 1 2 1 1 2 1 ...\n",
            " $ waterfront   : int  0 0 0 0 0 0 0 0 0 0 ...\n",
            " $ view         : int  0 0 0 0 0 0 0 0 0 0 ...\n",
            " $ condition    : int  3 3 3 3 3 3 3 3 3 3 ...\n",
            " $ grade        : int  7 7 6 8 11 7 7 7 7 8 ...\n",
            " $ sqft_above   : int  1180 2170 770 1680 3890 1715 1060 1050 1890 1860 ...\n",
            " $ sqft_basement: int  0 400 0 0 1530 0 0 730 0 1700 ...\n",
            " $ yr_built     : int  1955 1951 1933 1987 2001 1995 1963 1960 2003 1965 ...\n",
            " $ yr_renovated : int  0 1991 0 0 0 0 0 0 0 0 ...\n",
            " $ renovated    : int  0 1 0 0 0 0 0 0 0 0 ...\n",
            " $ zipcode      : int  98178 98125 98028 98074 98053 98003 98198 98146 98038 98007 ...\n",
            " $ lat          : num  47.5 47.7 47.7 47.6 47.7 ...\n",
            " $ long         : num  -122 -122 -122 -122 -122 ...\n",
            " $ sqft_living15: int  1340 1690 2720 1800 4760 2238 1650 1780 2390 2210 ...\n",
            " $ sqft_lot15   : int  5650 7639 8062 7503 101930 6819 9711 8113 7570 8925 ...\n"
          ]
        }
      ]
    },
    {
      "cell_type": "code",
      "source": [
        "#double checking that it worked\n",
        "str(Homes)"
      ],
      "metadata": {
        "colab": {
          "base_uri": "https://localhost:8080/"
        },
        "id": "b8nyejzgMG6n",
        "outputId": "3b6ca68f-a341-4bb8-cbde-e2c96ddc8bd9"
      },
      "execution_count": 5,
      "outputs": [
        {
          "output_type": "stream",
          "name": "stdout",
          "text": [
            "'data.frame':\t16187 obs. of  20 variables:\n",
            " $ price        : int  221900 538000 180000 510000 1230000 257500 291850 229500 323000 662500 ...\n",
            " $ bedrooms     : int  3 3 2 3 4 3 3 3 3 3 ...\n",
            " $ bathrooms    : num  1 2.25 1 2 4.5 2.25 1.5 1 2.5 2.5 ...\n",
            " $ sqft_living  : int  1180 2570 770 1680 5420 1715 1060 1780 1890 3560 ...\n",
            " $ sqft_lot     : int  5650 7242 10000 8080 101930 6819 9711 7470 6560 9796 ...\n",
            " $ floors       : num  1 2 1 1 1 2 1 1 2 1 ...\n",
            " $ waterfront   : Factor w/ 2 levels \"0\",\"1\": 1 1 1 1 1 1 1 1 1 1 ...\n",
            " $ view         : Factor w/ 5 levels \"0\",\"1\",\"2\",\"3\",..: 1 1 1 1 1 1 1 1 1 1 ...\n",
            " $ condition    : Factor w/ 5 levels \"1\",\"2\",\"3\",\"4\",..: 3 3 3 3 3 3 3 3 3 3 ...\n",
            " $ grade        : Factor w/ 11 levels \"3\",\"4\",\"5\",\"6\",..: 5 5 4 6 9 5 5 5 5 6 ...\n",
            " $ sqft_above   : int  1180 2170 770 1680 3890 1715 1060 1050 1890 1860 ...\n",
            " $ sqft_basement: int  0 400 0 0 1530 0 0 730 0 1700 ...\n",
            " $ yr_built     : int  1955 1951 1933 1987 2001 1995 1963 1960 2003 1965 ...\n",
            " $ yr_renovated : int  0 1991 0 0 0 0 0 0 0 0 ...\n",
            " $ renovated    : Factor w/ 2 levels \"0\",\"1\": 1 2 1 1 1 1 1 1 1 1 ...\n",
            " $ zipcode      : Factor w/ 70 levels \"98001\",\"98002\",..: 67 56 17 38 30 3 69 61 24 7 ...\n",
            " $ lat          : num  47.5 47.7 47.7 47.6 47.7 ...\n",
            " $ long         : num  -122 -122 -122 -122 -122 ...\n",
            " $ sqft_living15: int  1340 1690 2720 1800 4760 2238 1650 1780 2390 2210 ...\n",
            " $ sqft_lot15   : int  5650 7639 8062 7503 101930 6819 9711 8113 7570 8925 ...\n"
          ]
        }
      ]
    },
    {
      "cell_type": "markdown",
      "source": [
        "The first model was fit with everything"
      ],
      "metadata": {
        "id": "OGabyUqgMMAi"
      }
    },
    {
      "cell_type": "code",
      "source": [
        "Homes.lm <- lm(price ~., data = Homes[train,])\n",
        "summary(Homes.lm)"
      ],
      "metadata": {
        "colab": {
          "base_uri": "https://localhost:8080/",
          "height": 1000
        },
        "id": "sFpmxzP2Mnb-",
        "outputId": "25cb1d8c-ed00-4e3d-8aa1-6131f4a4133c"
      },
      "execution_count": 7,
      "outputs": [
        {
          "output_type": "display_data",
          "data": {
            "text/plain": [
              "\n",
              "Call:\n",
              "lm(formula = price ~ ., data = Homes[train, ])\n",
              "\n",
              "Residuals:\n",
              "    Min      1Q  Median      3Q     Max \n",
              "-965828  -60884    1889   55997 3622516 \n",
              "\n",
              "Coefficients: (1 not defined because of singularities)\n",
              "                Estimate Std. Error t value Pr(>|t|)    \n",
              "(Intercept)   -3.661e+07  8.173e+06  -4.479 7.56e-06 ***\n",
              "bedrooms      -1.083e+04  1.954e+03  -5.541 3.07e-08 ***\n",
              "bathrooms      2.333e+04  3.450e+03   6.764 1.41e-11 ***\n",
              "sqft_living    1.152e+02  4.601e+00  25.030  < 2e-16 ***\n",
              "sqft_lot       2.361e-01  4.366e-02   5.407 6.54e-08 ***\n",
              "floors        -3.120e+04  4.101e+03  -7.608 3.01e-14 ***\n",
              "waterfront1    5.225e+05  2.034e+04  25.687  < 2e-16 ***\n",
              "view1          8.313e+04  1.213e+04   6.854 7.58e-12 ***\n",
              "view2          8.024e+04  7.124e+03  11.264  < 2e-16 ***\n",
              "view3          1.744e+05  9.795e+03  17.805  < 2e-16 ***\n",
              "view4          3.104e+05  1.413e+04  21.970  < 2e-16 ***\n",
              "condition2     7.310e+04  4.006e+04   1.825 0.068048 .  \n",
              "condition3     8.834e+04  3.717e+04   2.376 0.017503 *  \n",
              "condition4     1.183e+05  3.719e+04   3.181 0.001470 ** \n",
              "condition5     1.659e+05  3.744e+04   4.431 9.47e-06 ***\n",
              "grade4        -9.987e+04  1.582e+05  -0.631 0.527749    \n",
              "grade5        -1.380e+05  1.529e+05  -0.903 0.366518    \n",
              "grade6        -1.522e+05  1.524e+05  -0.999 0.318012    \n",
              "grade7        -1.533e+05  1.524e+05  -1.005 0.314759    \n",
              "grade8        -1.357e+05  1.525e+05  -0.890 0.373557    \n",
              "grade9        -6.261e+04  1.526e+05  -0.410 0.681642    \n",
              "grade10        4.826e+04  1.528e+05   0.316 0.752131    \n",
              "grade11        2.485e+05  1.532e+05   1.622 0.104747    \n",
              "grade12        7.123e+05  1.546e+05   4.607 4.13e-06 ***\n",
              "grade13        1.617e+06  1.615e+05  10.013  < 2e-16 ***\n",
              "sqft_above     5.564e+01  4.746e+00  11.722  < 2e-16 ***\n",
              "sqft_basement         NA         NA      NA       NA    \n",
              "yr_built      -1.994e+02  8.552e+01  -2.332 0.019734 *  \n",
              "yr_renovated   2.894e+03  4.773e+02   6.063 1.38e-09 ***\n",
              "renovated1    -5.723e+06  9.531e+05  -6.004 1.98e-09 ***\n",
              "zipcode98002   1.068e+04  1.927e+04   0.554 0.579533    \n",
              "zipcode98003  -1.257e+04  1.654e+04  -0.760 0.447122    \n",
              "zipcode98004   7.136e+05  3.030e+04  23.551  < 2e-16 ***\n",
              "zipcode98005   2.562e+05  3.247e+04   7.889 3.32e-15 ***\n",
              "zipcode98006   2.182e+05  2.669e+04   8.175 3.27e-16 ***\n",
              "zipcode98007   2.088e+05  3.345e+04   6.240 4.52e-10 ***\n",
              "zipcode98008   2.089e+05  3.198e+04   6.533 6.74e-11 ***\n",
              "zipcode98010   1.139e+05  2.812e+04   4.049 5.17e-05 ***\n",
              "zipcode98011   4.275e+04  4.164e+04   1.027 0.304631    \n",
              "zipcode98014   6.937e+04  4.558e+04   1.522 0.128057    \n",
              "zipcode98019   5.935e+04  4.571e+04   1.298 0.194176    \n",
              "zipcode98022   7.505e+04  2.497e+04   3.005 0.002662 ** \n",
              "zipcode98023  -4.253e+04  1.548e+04  -2.747 0.006024 ** \n",
              "zipcode98024   1.639e+05  4.072e+04   4.025 5.74e-05 ***\n",
              "zipcode98027   1.668e+05  2.760e+04   6.043 1.56e-09 ***\n",
              "zipcode98028   2.430e+04  4.037e+04   0.602 0.547299    \n",
              "zipcode98029   2.280e+05  3.160e+04   7.215 5.74e-13 ***\n",
              "zipcode98030   4.714e+03  1.801e+04   0.262 0.793487    \n",
              "zipcode98031   1.092e+04  1.913e+04   0.571 0.567888    \n",
              "zipcode98032  -2.117e+04  2.314e+04  -0.915 0.360207    \n",
              "zipcode98033   2.741e+05  3.471e+04   7.899 3.07e-15 ***\n",
              "zipcode98034   1.031e+05  3.712e+04   2.778 0.005473 ** \n",
              "zipcode98038   7.634e+04  2.107e+04   3.622 0.000293 ***\n",
              "zipcode98039   1.052e+06  4.126e+04  25.506  < 2e-16 ***\n",
              "zipcode98040   4.476e+05  2.691e+04  16.635  < 2e-16 ***\n",
              "zipcode98042   2.343e+04  1.773e+04   1.322 0.186185    \n",
              "zipcode98045   1.696e+05  3.974e+04   4.267 1.99e-05 ***\n",
              "zipcode98052   1.849e+05  3.533e+04   5.233 1.70e-07 ***\n",
              "zipcode98053   1.680e+05  3.793e+04   4.428 9.60e-06 ***\n",
              "zipcode98055   3.054e+04  2.130e+04   1.434 0.151641    \n",
              "zipcode98056   6.237e+04  2.322e+04   2.686 0.007252 ** \n",
              "zipcode98058   1.544e+04  2.013e+04   0.767 0.443106    \n",
              "zipcode98059   6.289e+04  2.272e+04   2.768 0.005651 ** \n",
              "zipcode98065   1.211e+05  3.594e+04   3.370 0.000753 ***\n",
              "zipcode98070  -6.913e+04  2.612e+04  -2.647 0.008136 ** \n",
              "zipcode98072   7.531e+04  4.154e+04   1.813 0.069830 .  \n",
              "zipcode98074   1.550e+05  3.361e+04   4.613 4.00e-06 ***\n",
              "zipcode98075   1.649e+05  3.241e+04   5.088 3.67e-07 ***\n",
              "zipcode98077   4.964e+04  4.300e+04   1.154 0.248339    \n",
              "zipcode98092  -5.448e+03  1.672e+04  -0.326 0.744614    \n",
              "zipcode98102   3.988e+05  3.481e+04  11.455  < 2e-16 ***\n",
              "zipcode98103   2.518e+05  3.342e+04   7.534 5.29e-14 ***\n",
              "zipcode98105   4.028e+05  3.425e+04  11.759  < 2e-16 ***\n",
              "zipcode98106   6.618e+04  2.474e+04   2.675 0.007478 ** \n",
              "zipcode98107   2.544e+05  3.448e+04   7.380 1.69e-13 ***\n",
              "zipcode98108   5.499e+04  2.829e+04   1.944 0.051923 .  \n",
              "zipcode98109   4.044e+05  3.538e+04  11.428  < 2e-16 ***\n",
              "zipcode98112   5.825e+05  3.147e+04  18.511  < 2e-16 ***\n",
              "zipcode98115   2.465e+05  3.391e+04   7.267 3.91e-13 ***\n",
              "zipcode98116   2.112e+05  2.747e+04   7.691 1.58e-14 ***\n",
              "zipcode98117   2.052e+05  3.427e+04   5.988 2.19e-09 ***\n",
              "zipcode98118   1.138e+05  2.414e+04   4.716 2.43e-06 ***\n",
              "zipcode98119   4.212e+05  3.377e+04  12.473  < 2e-16 ***\n",
              "zipcode98122   2.616e+05  2.968e+04   8.817  < 2e-16 ***\n",
              "zipcode98125   1.034e+05  3.652e+04   2.832 0.004634 ** \n",
              "zipcode98126   1.162e+05  2.510e+04   4.629 3.72e-06 ***\n",
              "zipcode98133   5.031e+04  3.783e+04   1.330 0.183656    \n",
              "zipcode98136   1.828e+05  2.614e+04   6.994 2.83e-12 ***\n",
              "zipcode98144   2.159e+05  2.756e+04   7.834 5.13e-15 ***\n",
              "zipcode98146   2.781e+04  2.307e+04   1.205 0.228051    \n",
              "zipcode98148   4.174e+04  3.044e+04   1.371 0.170309    \n",
              "zipcode98155   3.128e+04  3.936e+04   0.795 0.426828    \n",
              "zipcode98166   5.290e+03  2.168e+04   0.244 0.807280    \n",
              "zipcode98168   3.950e+03  2.211e+04   0.179 0.858201    \n",
              "zipcode98177   9.589e+04  3.940e+04   2.434 0.014962 *  \n",
              "zipcode98178  -5.808e+02  2.316e+04  -0.025 0.979993    \n",
              "zipcode98188  -3.061e+03  2.339e+04  -0.131 0.895883    \n",
              "zipcode98198  -2.751e+04  1.808e+04  -1.521 0.128195    \n",
              "zipcode98199   2.827e+05  3.273e+04   8.638  < 2e-16 ***\n",
              "lat            2.511e+05  8.212e+04   3.058 0.002233 ** \n",
              "long          -2.056e+05  6.123e+04  -3.357 0.000790 ***\n",
              "sqft_living15  1.266e+01  3.714e+00   3.408 0.000657 ***\n",
              "sqft_lot15    -1.228e-01  7.320e-02  -1.677 0.093502 .  \n",
              "---\n",
              "Signif. codes:  0 ‘***’ 0.001 ‘**’ 0.01 ‘*’ 0.05 ‘.’ 0.1 ‘ ’ 1\n",
              "\n",
              "Residual standard error: 150700 on 11229 degrees of freedom\n",
              "Multiple R-squared:  0.8366,\tAdjusted R-squared:  0.8351 \n",
              "F-statistic: 569.1 on 101 and 11229 DF,  p-value: < 2.2e-16\n"
            ]
          },
          "metadata": {}
        }
      ]
    },
    {
      "cell_type": "markdown",
      "source": [
        "There are issues with multicolinearity and high leverage points"
      ],
      "metadata": {
        "id": "hkMXwfbIM0LP"
      }
    },
    {
      "cell_type": "code",
      "source": [
        "#does not run in colab\n",
        "vif(Homes.lm)"
      ],
      "metadata": {
        "id": "6vdiUE1_NJat"
      },
      "execution_count": null,
      "outputs": []
    },
    {
      "cell_type": "code",
      "source": [
        " #removing high leverage points\n",
        " Homes <- (Homes\n",
        "                        %>% filter(bedrooms < 20)\n",
        "                        %>% filter(sqft_basement < 4500)\n",
        "                        %>% filter(sqft_lot < 1500000)\n",
        "                        %>% filter(sqft_lot15 < 500000 )\n",
        "                       )\n",
        "dim(Homes)"
      ],
      "metadata": {
        "colab": {
          "base_uri": "https://localhost:8080/",
          "height": 34
        },
        "id": "jxn87j85UBJD",
        "outputId": "4b1e4b4d-54c4-4f3d-fc20-61c98e0e040a"
      },
      "execution_count": 12,
      "outputs": [
        {
          "output_type": "display_data",
          "data": {
            "text/html": [
              "<style>\n",
              ".list-inline {list-style: none; margin:0; padding: 0}\n",
              ".list-inline>li {display: inline-block}\n",
              ".list-inline>li:not(:last-child)::after {content: \"\\00b7\"; padding: 0 .5ex}\n",
              "</style>\n",
              "<ol class=list-inline><li>16181</li><li>20</li></ol>\n"
            ],
            "text/markdown": "1. 16181\n2. 20\n\n\n",
            "text/latex": "\\begin{enumerate*}\n\\item 16181\n\\item 20\n\\end{enumerate*}\n",
            "text/plain": [
              "[1] 16181    20"
            ]
          },
          "metadata": {}
        }
      ]
    },
    {
      "cell_type": "code",
      "source": [
        "#resetting up a training and validation set\n",
        "dim(Homes)\n",
        "train = sample(1:16181,size=round(16181*.7,0),replace=F)"
      ],
      "metadata": {
        "id": "1kVuUYBVUPuR"
      },
      "execution_count": null,
      "outputs": []
    },
    {
      "cell_type": "code",
      "source": [
        "#Columns removed from HomesZip were due to multicolinearity\n",
        "HomesZip <- (Homes %>% \n",
        "               select(-yr_renovated, #had 0s if the house was not renovated\n",
        "                      -lat, #had issues with zipcode\n",
        "                      -long,#had issues with zipcode\n",
        "                      -sqft_living, #directly correlated with sqrft of basement\n",
        "                      -sqft_above #directly correlated with sqrft of basement\n",
        "                     )  \n",
        "            )  "
      ],
      "metadata": {
        "id": "mf-OV43uM6zl"
      },
      "execution_count": 13,
      "outputs": []
    },
    {
      "cell_type": "markdown",
      "source": [
        "Refitting the model after the adjustments"
      ],
      "metadata": {
        "id": "MZsdhKe9VJVk"
      }
    },
    {
      "cell_type": "code",
      "source": [
        "#refitting the model\n",
        "HomesZip.lm <- lm(price ~., data = HomesZip[train,])\n",
        "summary(HomesZip.lm)"
      ],
      "metadata": {
        "colab": {
          "base_uri": "https://localhost:8080/",
          "height": 1000
        },
        "id": "k0nXPJcJTyBJ",
        "outputId": "30ec653f-1d0a-4aae-c385-89c1cf4d2c96"
      },
      "execution_count": 16,
      "outputs": [
        {
          "output_type": "display_data",
          "data": {
            "text/plain": [
              "\n",
              "Call:\n",
              "lm(formula = price ~ ., data = HomesZip[train, ])\n",
              "\n",
              "Residuals:\n",
              "     Min       1Q   Median       3Q      Max \n",
              "-1351197   -65704     -151    57822  4282598 \n",
              "\n",
              "Coefficients:\n",
              "                Estimate Std. Error t value Pr(>|t|)    \n",
              "(Intercept)    1.366e+06  2.167e+05   6.303 3.03e-10 ***\n",
              "bedrooms       1.757e+04  2.151e+03   8.166 3.52e-16 ***\n",
              "bathrooms      7.260e+04  3.507e+03  20.701  < 2e-16 ***\n",
              "sqft_lot       3.545e-01  5.126e-02   6.917 4.86e-12 ***\n",
              "floors         4.396e+03  4.351e+03   1.010 0.312361    \n",
              "waterfront1    5.323e+05  2.188e+04  24.330  < 2e-16 ***\n",
              "view1          9.919e+04  1.261e+04   7.863 4.09e-15 ***\n",
              "view2          6.849e+04  7.736e+03   8.853  < 2e-16 ***\n",
              "view3          1.587e+05  1.082e+04  14.666  < 2e-16 ***\n",
              "view4          2.838e+05  1.512e+04  18.774  < 2e-16 ***\n",
              "condition2     7.965e+04  4.649e+04   1.713 0.086730 .  \n",
              "condition3     9.337e+04  4.396e+04   2.124 0.033702 *  \n",
              "condition4     1.198e+05  4.399e+04   2.724 0.006455 ** \n",
              "condition5     1.615e+05  4.424e+04   3.651 0.000262 ***\n",
              "grade4        -1.341e+05  1.210e+05  -1.108 0.267820    \n",
              "grade5        -1.676e+05  1.163e+05  -1.441 0.149644    \n",
              "grade6        -1.393e+05  1.156e+05  -1.205 0.228350    \n",
              "grade7        -1.242e+05  1.156e+05  -1.075 0.282596    \n",
              "grade8        -7.899e+04  1.157e+05  -0.683 0.494861    \n",
              "grade9         4.929e+04  1.159e+05   0.425 0.670584    \n",
              "grade10        2.223e+05  1.161e+05   1.914 0.055608 .  \n",
              "grade11        4.979e+05  1.166e+05   4.270 1.97e-05 ***\n",
              "grade12        9.090e+05  1.191e+05   7.631 2.52e-14 ***\n",
              "grade13        2.271e+06  1.266e+05  17.943  < 2e-16 ***\n",
              "sqft_basement  3.587e+01  4.587e+00   7.821 5.72e-15 ***\n",
              "yr_built      -7.327e+02  9.118e+01  -8.036 1.02e-15 ***\n",
              "renovated1     5.701e+04  8.246e+03   6.913 4.99e-12 ***\n",
              "zipcode98002   1.043e+04  2.017e+04   0.517 0.605051    \n",
              "zipcode98003  -8.316e+03  1.788e+04  -0.465 0.641924    \n",
              "zipcode98004   7.845e+05  1.758e+04  44.636  < 2e-16 ***\n",
              "zipcode98005   2.743e+05  2.027e+04  13.532  < 2e-16 ***\n",
              "zipcode98006   2.182e+05  1.565e+04  13.946  < 2e-16 ***\n",
              "zipcode98007   2.353e+05  2.186e+04  10.765  < 2e-16 ***\n",
              "zipcode98008   2.569e+05  1.737e+04  14.790  < 2e-16 ***\n",
              "zipcode98010   6.815e+04  2.438e+04   2.795 0.005192 ** \n",
              "zipcode98011   1.370e+05  2.010e+04   6.818 9.73e-12 ***\n",
              "zipcode98014   1.021e+05  2.427e+04   4.206 2.62e-05 ***\n",
              "zipcode98019   1.008e+05  1.983e+04   5.085 3.73e-07 ***\n",
              "zipcode98022  -1.538e+04  1.925e+04  -0.799 0.424450    \n",
              "zipcode98023  -3.859e+04  1.531e+04  -2.520 0.011736 *  \n",
              "zipcode98024   1.438e+05  2.772e+04   5.188 2.16e-07 ***\n",
              "zipcode98027   1.421e+05  1.620e+04   8.772  < 2e-16 ***\n",
              "zipcode98028   1.242e+05  1.766e+04   7.035 2.11e-12 ***\n",
              "zipcode98029   2.024e+05  1.710e+04  11.838  < 2e-16 ***\n",
              "zipcode98030   8.812e+03  1.804e+04   0.489 0.625171    \n",
              "zipcode98031   9.304e+03  1.771e+04   0.525 0.599338    \n",
              "zipcode98032   2.993e+03  2.228e+04   0.134 0.893132    \n",
              "zipcode98033   3.494e+05  1.599e+04  21.847  < 2e-16 ***\n",
              "zipcode98034   1.856e+05  1.513e+04  12.265  < 2e-16 ***\n",
              "zipcode98038   3.114e+04  1.499e+04   2.078 0.037769 *  \n",
              "zipcode98039   1.184e+06  3.683e+04  32.136  < 2e-16 ***\n",
              "zipcode98040   4.523e+05  1.813e+04  24.948  < 2e-16 ***\n",
              "zipcode98042   6.706e+03  1.505e+04   0.445 0.656000    \n",
              "zipcode98045   1.056e+05  1.955e+04   5.403 6.67e-08 ***\n",
              "zipcode98052   2.272e+05  1.484e+04  15.314  < 2e-16 ***\n",
              "zipcode98053   2.495e+05  1.638e+04  15.232  < 2e-16 ***\n",
              "zipcode98055   3.372e+04  1.775e+04   1.900 0.057485 .  \n",
              "zipcode98056   8.528e+04  1.639e+04   5.204 1.99e-07 ***\n",
              "zipcode98058   2.803e+04  1.555e+04   1.802 0.071547 .  \n",
              "zipcode98059   8.642e+04  1.565e+04   5.523 3.41e-08 ***\n",
              "zipcode98065   1.147e+05  1.738e+04   6.602 4.25e-11 ***\n",
              "zipcode98070  -5.016e+04  2.364e+04  -2.122 0.033871 *  \n",
              "zipcode98072   1.413e+05  1.747e+04   8.087 6.76e-16 ***\n",
              "zipcode98074   1.625e+05  1.576e+04  10.308  < 2e-16 ***\n",
              "zipcode98075   1.712e+05  1.708e+04  10.027  < 2e-16 ***\n",
              "zipcode98077   1.158e+05  1.988e+04   5.824 5.90e-09 ***\n",
              "zipcode98092  -2.536e+04  1.666e+04  -1.522 0.128016    \n",
              "zipcode98102   4.420e+05  2.440e+04  18.115  < 2e-16 ***\n",
              "zipcode98103   3.096e+05  1.530e+04  20.236  < 2e-16 ***\n",
              "zipcode98105   4.433e+05  1.926e+04  23.013  < 2e-16 ***\n",
              "zipcode98106   1.026e+05  1.698e+04   6.042 1.57e-09 ***\n",
              "zipcode98107   2.866e+05  1.830e+04  15.661  < 2e-16 ***\n",
              "zipcode98108   1.010e+05  2.091e+04   4.829 1.39e-06 ***\n",
              "zipcode98109   5.002e+05  2.404e+04  20.804  < 2e-16 ***\n",
              "zipcode98112   6.002e+05  1.780e+04  33.719  < 2e-16 ***\n",
              "zipcode98115   3.190e+05  1.505e+04  21.199  < 2e-16 ***\n",
              "zipcode98116   2.644e+05  1.747e+04  15.135  < 2e-16 ***\n",
              "zipcode98117   2.978e+05  1.538e+04  19.360  < 2e-16 ***\n",
              "zipcode98118   1.425e+05  1.560e+04   9.131  < 2e-16 ***\n",
              "zipcode98119   4.481e+05  2.095e+04  21.385  < 2e-16 ***\n",
              "zipcode98122   2.742e+05  1.820e+04  15.068  < 2e-16 ***\n",
              "zipcode98125   1.912e+05  1.614e+04  11.845  < 2e-16 ***\n",
              "zipcode98126   1.779e+05  1.664e+04  10.693  < 2e-16 ***\n",
              "zipcode98133   1.489e+05  1.543e+04   9.651  < 2e-16 ***\n",
              "zipcode98136   2.254e+05  1.831e+04  12.309  < 2e-16 ***\n",
              "zipcode98144   2.555e+05  1.682e+04  15.189  < 2e-16 ***\n",
              "zipcode98146   9.787e+04  1.786e+04   5.480 4.34e-08 ***\n",
              "zipcode98148   7.378e+04  3.138e+04   2.351 0.018737 *  \n",
              "zipcode98155   1.363e+05  1.565e+04   8.713  < 2e-16 ***\n",
              "zipcode98166   5.211e+04  1.809e+04   2.880 0.003981 ** \n",
              "zipcode98168   5.698e+04  1.818e+04   3.134 0.001732 ** \n",
              "zipcode98177   2.017e+05  1.820e+04  11.082  < 2e-16 ***\n",
              "zipcode98178   3.066e+04  1.846e+04   1.661 0.096830 .  \n",
              "zipcode98188   3.447e+04  2.258e+04   1.526 0.127027    \n",
              "zipcode98198  -2.117e+03  1.776e+04  -0.119 0.905104    \n",
              "zipcode98199   3.547e+05  1.748e+04  20.292  < 2e-16 ***\n",
              "sqft_living15  6.961e+01  3.812e+00  18.258  < 2e-16 ***\n",
              "sqft_lot15     1.687e-01  8.485e-02   1.988 0.046872 *  \n",
              "---\n",
              "Signif. codes:  0 ‘***’ 0.001 ‘**’ 0.01 ‘*’ 0.05 ‘.’ 0.1 ‘ ’ 1\n",
              "\n",
              "Residual standard error: 162200 on 11229 degrees of freedom\n",
              "  (4 observations deleted due to missingness)\n",
              "Multiple R-squared:  0.8094,\tAdjusted R-squared:  0.8077 \n",
              "F-statistic: 491.5 on 97 and 11229 DF,  p-value: < 2.2e-16\n"
            ]
          },
          "metadata": {}
        }
      ]
    },
    {
      "cell_type": "markdown",
      "source": [
        "Using a backstep process to get rid of unneeded predictors"
      ],
      "metadata": {
        "id": "r2vZRmFtUqMH"
      }
    },
    {
      "cell_type": "code",
      "source": [
        "HomesZip.back = step(HomesZip.lm)"
      ],
      "metadata": {
        "colab": {
          "base_uri": "https://localhost:8080/"
        },
        "id": "es9XXt56UoK9",
        "outputId": "d2ec8bc4-37ec-4efa-828a-e6e13ddc32f1"
      },
      "execution_count": 17,
      "outputs": [
        {
          "output_type": "stream",
          "name": "stdout",
          "text": [
            "Start:  AIC=271861.4\n",
            "price ~ bedrooms + bathrooms + sqft_lot + floors + waterfront + \n",
            "    view + condition + grade + sqft_basement + yr_built + renovated + \n",
            "    zipcode + sqft_living15 + sqft_lot15\n",
            "\n",
            "                Df  Sum of Sq        RSS    AIC\n",
            "- floors         1 2.6839e+10 2.9527e+14 271860\n",
            "<none>                        2.9524e+14 271861\n",
            "- sqft_lot15     1 1.0388e+11 2.9535e+14 271863\n",
            "- renovated      1 1.2566e+12 2.9650e+14 271907\n",
            "- sqft_lot       1 1.2580e+12 2.9650e+14 271908\n",
            "- sqft_basement  1 1.6082e+12 2.9685e+14 271921\n",
            "- yr_built       1 1.6978e+12 2.9694e+14 271924\n",
            "- bedrooms       1 1.7535e+12 2.9700e+14 271926\n",
            "- condition      4 3.6086e+12 2.9885e+14 271991\n",
            "- sqft_living15  1 8.7645e+12 3.0401e+14 272191\n",
            "- bathrooms      1 1.1267e+13 3.0651e+14 272284\n",
            "- view           4 1.4680e+13 3.0992e+14 272403\n",
            "- waterfront     1 1.5564e+13 3.1081e+14 272441\n",
            "- grade         10 1.3428e+14 4.2952e+14 276088\n",
            "- zipcode       69 2.1714e+14 5.1238e+14 277968\n",
            "\n",
            "Step:  AIC=271860.4\n",
            "price ~ bedrooms + bathrooms + sqft_lot + waterfront + view + \n",
            "    condition + grade + sqft_basement + yr_built + renovated + \n",
            "    zipcode + sqft_living15 + sqft_lot15\n",
            "\n",
            "                Df  Sum of Sq        RSS    AIC\n",
            "<none>                        2.9527e+14 271860\n",
            "- sqft_lot15     1 1.0223e+11 2.9537e+14 271862\n",
            "- sqft_lot       1 1.2524e+12 2.9652e+14 271906\n",
            "- renovated      1 1.2947e+12 2.9656e+14 271908\n",
            "- yr_built       1 1.7232e+12 2.9699e+14 271924\n",
            "- sqft_basement  1 1.7612e+12 2.9703e+14 271926\n",
            "- bedrooms       1 1.7995e+12 2.9707e+14 271927\n",
            "- condition      4 3.5992e+12 2.9887e+14 271990\n",
            "- sqft_living15  1 8.7831e+12 3.0405e+14 272190\n",
            "- bathrooms      1 1.2570e+13 3.0784e+14 272331\n",
            "- view           4 1.4694e+13 3.0996e+14 272402\n",
            "- waterfront     1 1.5609e+13 3.1088e+14 272442\n",
            "- grade         10 1.3487e+14 4.3014e+14 276102\n",
            "- zipcode       69 2.2343e+14 5.1870e+14 278104\n"
          ]
        }
      ]
    },
    {
      "cell_type": "markdown",
      "source": [
        "Final output:"
      ],
      "metadata": {
        "id": "cPDXwUI2VDqt"
      }
    },
    {
      "cell_type": "code",
      "source": [
        "summary(HomesZip.back)"
      ],
      "metadata": {
        "colab": {
          "base_uri": "https://localhost:8080/",
          "height": 1000
        },
        "id": "q32Nl-7AU8Os",
        "outputId": "672919e7-d670-4624-b22e-db2a040f8a57"
      },
      "execution_count": 18,
      "outputs": [
        {
          "output_type": "display_data",
          "data": {
            "text/plain": [
              "\n",
              "Call:\n",
              "lm(formula = price ~ bedrooms + bathrooms + sqft_lot + waterfront + \n",
              "    view + condition + grade + sqft_basement + yr_built + renovated + \n",
              "    zipcode + sqft_living15 + sqft_lot15, data = HomesZip[train, \n",
              "    ])\n",
              "\n",
              "Residuals:\n",
              "     Min       1Q   Median       3Q      Max \n",
              "-1351598   -65632      108    57607  4285883 \n",
              "\n",
              "Coefficients:\n",
              "                Estimate Std. Error t value Pr(>|t|)    \n",
              "(Intercept)    1.318e+06  2.113e+05   6.234 4.70e-10 ***\n",
              "bedrooms       1.774e+04  2.144e+03   8.273  < 2e-16 ***\n",
              "bathrooms      7.359e+04  3.366e+03  21.865  < 2e-16 ***\n",
              "sqft_lot       3.537e-01  5.125e-02   6.902 5.41e-12 ***\n",
              "waterfront1    5.329e+05  2.187e+04  24.365  < 2e-16 ***\n",
              "view1          9.931e+04  1.261e+04   7.873 3.77e-15 ***\n",
              "view2          6.853e+04  7.735e+03   8.859  < 2e-16 ***\n",
              "view3          1.588e+05  1.082e+04  14.669  < 2e-16 ***\n",
              "view4          2.839e+05  1.512e+04  18.782  < 2e-16 ***\n",
              "condition2     7.986e+04  4.649e+04   1.718 0.085908 .  \n",
              "condition3     9.360e+04  4.396e+04   2.129 0.033267 *  \n",
              "condition4     1.199e+05  4.399e+04   2.726 0.006428 ** \n",
              "condition5     1.617e+05  4.424e+04   3.656 0.000258 ***\n",
              "grade4        -1.349e+05  1.210e+05  -1.116 0.264639    \n",
              "grade5        -1.686e+05  1.163e+05  -1.449 0.147305    \n",
              "grade6        -1.406e+05  1.156e+05  -1.216 0.223957    \n",
              "grade7        -1.256e+05  1.156e+05  -1.086 0.277400    \n",
              "grade8        -7.969e+04  1.157e+05  -0.689 0.491064    \n",
              "grade9         4.896e+04  1.159e+05   0.423 0.672633    \n",
              "grade10        2.220e+05  1.161e+05   1.912 0.055946 .  \n",
              "grade11        4.976e+05  1.166e+05   4.268 1.99e-05 ***\n",
              "grade12        9.088e+05  1.191e+05   7.629 2.55e-14 ***\n",
              "grade13        2.271e+06  1.266e+05  17.940  < 2e-16 ***\n",
              "sqft_basement  3.387e+01  4.139e+00   8.184 3.03e-16 ***\n",
              "yr_built      -7.057e+02  8.717e+01  -8.095 6.29e-16 ***\n",
              "renovated1     5.768e+04  8.219e+03   7.017 2.39e-12 ***\n",
              "zipcode98002   1.066e+04  2.017e+04   0.529 0.597081    \n",
              "zipcode98003  -8.939e+03  1.787e+04  -0.500 0.616963    \n",
              "zipcode98004   7.842e+05  1.757e+04  44.624  < 2e-16 ***\n",
              "zipcode98005   2.736e+05  2.026e+04  13.503  < 2e-16 ***\n",
              "zipcode98006   2.179e+05  1.565e+04  13.927  < 2e-16 ***\n",
              "zipcode98007   2.353e+05  2.186e+04  10.764  < 2e-16 ***\n",
              "zipcode98008   2.565e+05  1.737e+04  14.768  < 2e-16 ***\n",
              "zipcode98010   6.812e+04  2.438e+04   2.794 0.005214 ** \n",
              "zipcode98011   1.369e+05  2.010e+04   6.811 1.02e-11 ***\n",
              "zipcode98014   1.023e+05  2.426e+04   4.214 2.53e-05 ***\n",
              "zipcode98019   1.014e+05  1.982e+04   5.113 3.23e-07 ***\n",
              "zipcode98022  -1.570e+04  1.925e+04  -0.815 0.414822    \n",
              "zipcode98023  -3.908e+04  1.530e+04  -2.554 0.010672 *  \n",
              "zipcode98024   1.437e+05  2.772e+04   5.183 2.22e-07 ***\n",
              "zipcode98027   1.425e+05  1.620e+04   8.797  < 2e-16 ***\n",
              "zipcode98028   1.243e+05  1.766e+04   7.038 2.06e-12 ***\n",
              "zipcode98029   2.029e+05  1.709e+04  11.868  < 2e-16 ***\n",
              "zipcode98030   8.562e+03  1.803e+04   0.475 0.634954    \n",
              "zipcode98031   9.186e+03  1.771e+04   0.519 0.603945    \n",
              "zipcode98032   3.109e+03  2.228e+04   0.140 0.889008    \n",
              "zipcode98033   3.493e+05  1.599e+04  21.840  < 2e-16 ***\n",
              "zipcode98034   1.852e+05  1.513e+04  12.243  < 2e-16 ***\n",
              "zipcode98038   3.132e+04  1.499e+04   2.090 0.036616 *  \n",
              "zipcode98039   1.182e+06  3.681e+04  32.121  < 2e-16 ***\n",
              "zipcode98040   4.522e+05  1.813e+04  24.945  < 2e-16 ***\n",
              "zipcode98042   6.432e+03  1.505e+04   0.427 0.669184    \n",
              "zipcode98045   1.053e+05  1.954e+04   5.386 7.34e-08 ***\n",
              "zipcode98052   2.270e+05  1.484e+04  15.304  < 2e-16 ***\n",
              "zipcode98053   2.490e+05  1.637e+04  15.208  < 2e-16 ***\n",
              "zipcode98055   3.383e+04  1.775e+04   1.906 0.056677 .  \n",
              "zipcode98056   8.523e+04  1.639e+04   5.201 2.02e-07 ***\n",
              "zipcode98058   2.771e+04  1.555e+04   1.782 0.074813 .  \n",
              "zipcode98059   8.632e+04  1.565e+04   5.516 3.54e-08 ***\n",
              "zipcode98065   1.152e+05  1.737e+04   6.629 3.55e-11 ***\n",
              "zipcode98070  -4.984e+04  2.364e+04  -2.108 0.035026 *  \n",
              "zipcode98072   1.410e+05  1.747e+04   8.071 7.69e-16 ***\n",
              "zipcode98074   1.623e+05  1.576e+04  10.296  < 2e-16 ***\n",
              "zipcode98075   1.711e+05  1.708e+04  10.017  < 2e-16 ***\n",
              "zipcode98077   1.156e+05  1.988e+04   5.817 6.16e-09 ***\n",
              "zipcode98092  -2.540e+04  1.666e+04  -1.525 0.127371    \n",
              "zipcode98102   4.450e+05  2.422e+04  18.372  < 2e-16 ***\n",
              "zipcode98103   3.121e+05  1.509e+04  20.680  < 2e-16 ***\n",
              "zipcode98105   4.453e+05  1.917e+04  23.231  < 2e-16 ***\n",
              "zipcode98106   1.032e+05  1.697e+04   6.082 1.22e-09 ***\n",
              "zipcode98107   2.890e+05  1.815e+04  15.919  < 2e-16 ***\n",
              "zipcode98108   1.018e+05  2.090e+04   4.873 1.12e-06 ***\n",
              "zipcode98109   5.024e+05  2.394e+04  20.990  < 2e-16 ***\n",
              "zipcode98112   6.023e+05  1.768e+04  34.075  < 2e-16 ***\n",
              "zipcode98115   3.205e+05  1.498e+04  21.399  < 2e-16 ***\n",
              "zipcode98116   2.659e+05  1.741e+04  15.278  < 2e-16 ***\n",
              "zipcode98117   2.992e+05  1.531e+04  19.538  < 2e-16 ***\n",
              "zipcode98118   1.434e+05  1.557e+04   9.211  < 2e-16 ***\n",
              "zipcode98119   4.502e+05  2.085e+04  21.596  < 2e-16 ***\n",
              "zipcode98122   2.764e+05  1.807e+04  15.300  < 2e-16 ***\n",
              "zipcode98125   1.921e+05  1.612e+04  11.918  < 2e-16 ***\n",
              "zipcode98126   1.789e+05  1.661e+04  10.767  < 2e-16 ***\n",
              "zipcode98133   1.497e+05  1.541e+04   9.717  < 2e-16 ***\n",
              "zipcode98136   2.265e+05  1.828e+04  12.388  < 2e-16 ***\n",
              "zipcode98144   2.573e+05  1.672e+04  15.388  < 2e-16 ***\n",
              "zipcode98146   9.803e+04  1.786e+04   5.489 4.12e-08 ***\n",
              "zipcode98148   7.347e+04  3.138e+04   2.341 0.019237 *  \n",
              "zipcode98155   1.364e+05  1.565e+04   8.714  < 2e-16 ***\n",
              "zipcode98166   5.222e+04  1.809e+04   2.886 0.003906 ** \n",
              "zipcode98168   5.727e+04  1.818e+04   3.150 0.001638 ** \n",
              "zipcode98177   2.017e+05  1.820e+04  11.080  < 2e-16 ***\n",
              "zipcode98178   3.093e+04  1.846e+04   1.675 0.093898 .  \n",
              "zipcode98188   3.440e+04  2.258e+04   1.523 0.127779    \n",
              "zipcode98198  -2.341e+03  1.776e+04  -0.132 0.895094    \n",
              "zipcode98199   3.558e+05  1.745e+04  20.386  < 2e-16 ***\n",
              "sqft_living15  6.967e+01  3.812e+00  18.277  < 2e-16 ***\n",
              "sqft_lot15     1.673e-01  8.484e-02   1.972 0.048650 *  \n",
              "---\n",
              "Signif. codes:  0 ‘***’ 0.001 ‘**’ 0.01 ‘*’ 0.05 ‘.’ 0.1 ‘ ’ 1\n",
              "\n",
              "Residual standard error: 162200 on 11230 degrees of freedom\n",
              "  (4 observations deleted due to missingness)\n",
              "Multiple R-squared:  0.8093,\tAdjusted R-squared:  0.8077 \n",
              "F-statistic: 496.6 on 96 and 11230 DF,  p-value: < 2.2e-16\n"
            ]
          },
          "metadata": {}
        }
      ]
    },
    {
      "cell_type": "markdown",
      "source": [
        "## Cross Validation of Output"
      ],
      "metadata": {
        "id": "tznZvrldU4HX"
      }
    },
    {
      "cell_type": "code",
      "source": [
        "#error using the hold out set\n",
        "yhat.orig <- predict(HomesZip.back, newdata=Homes[-train,])\n",
        "y = Homes$price[-train]\n",
        "\n",
        "RMSEP.orig = sqrt(mean((y-yhat.orig)^2))\n",
        "cat('RMSE')\n",
        "RMSEP.orig\n",
        "\n",
        "MAE.orig = mean(abs(y-yhat.orig))\n",
        "cat('MAE')\n",
        "MAE.orig\n",
        "\n",
        "MAPE.orig = mean(abs(y-yhat.orig)/y)*100\n",
        "cat('MAPE')\n",
        "MAPE.orig\n"
      ],
      "metadata": {
        "colab": {
          "base_uri": "https://localhost:8080/",
          "height": 124
        },
        "id": "D0TEUp-XVcp0",
        "outputId": "00e05bb3-e3b6-443e-acff-c8f011d0149e"
      },
      "execution_count": 19,
      "outputs": [
        {
          "output_type": "stream",
          "name": "stdout",
          "text": [
            "RMSE"
          ]
        },
        {
          "output_type": "display_data",
          "data": {
            "text/html": [
              "157214.118896745"
            ],
            "text/markdown": "157214.118896745",
            "text/latex": "157214.118896745",
            "text/plain": [
              "[1] 157214.1"
            ]
          },
          "metadata": {}
        },
        {
          "output_type": "stream",
          "name": "stdout",
          "text": [
            "MAE"
          ]
        },
        {
          "output_type": "display_data",
          "data": {
            "text/html": [
              "95260.5579116732"
            ],
            "text/markdown": "95260.5579116732",
            "text/latex": "95260.5579116732",
            "text/plain": [
              "[1] 95260.56"
            ]
          },
          "metadata": {}
        },
        {
          "output_type": "stream",
          "name": "stdout",
          "text": [
            "MAPE"
          ]
        },
        {
          "output_type": "display_data",
          "data": {
            "text/html": [
              "18.1980893049536"
            ],
            "text/markdown": "18.1980893049536",
            "text/latex": "18.1980893049536",
            "text/plain": [
              "[1] 18.19809"
            ]
          },
          "metadata": {}
        }
      ]
    },
    {
      "cell_type": "markdown",
      "source": [
        "# Transformation"
      ],
      "metadata": {
        "id": "tfO2mP9LV0tc"
      }
    },
    {
      "cell_type": "markdown",
      "source": [
        "Running a box cox to see if a transformation of the response would be beneficial"
      ],
      "metadata": {
        "id": "uH_-Nw1XV6jf"
      }
    },
    {
      "cell_type": "code",
      "source": [
        "#needs the car package (does not work well in colab)\n",
        "BCtran(y)"
      ],
      "metadata": {
        "id": "YUPSFXhdV4kk"
      },
      "execution_count": null,
      "outputs": []
    },
    {
      "cell_type": "markdown",
      "source": [
        "returns a lambda of -.2 which is close enough to 0 to consider a log transformation"
      ],
      "metadata": {
        "id": "fRrdXZ4HWLhY"
      }
    },
    {
      "cell_type": "code",
      "source": [
        "loghome = (Homes %>% \n",
        "             select(-yr_renovated, -lat, -long, -sqft_living, -sqft_above)\n",
        ")  \n",
        "loghome$price = log(Homes$price)"
      ],
      "metadata": {
        "id": "AdFo9wXCWTZK"
      },
      "execution_count": 20,
      "outputs": []
    },
    {
      "cell_type": "markdown",
      "source": [
        "Setting up the next model and doing a backwards step"
      ],
      "metadata": {
        "id": "zWL0FcbXWgGW"
      }
    },
    {
      "cell_type": "code",
      "source": [
        "loghome.lm = lm(price ~., data = loghome[train,])"
      ],
      "metadata": {
        "id": "BrldBCKmWdq5"
      },
      "execution_count": 22,
      "outputs": []
    },
    {
      "cell_type": "code",
      "source": [
        "loghome.back = step(loghome.lm)"
      ],
      "metadata": {
        "colab": {
          "base_uri": "https://localhost:8080/"
        },
        "id": "1G3hbYrAWxmO",
        "outputId": "88edebb0-8022-440b-f260-154b4ba9df25"
      },
      "execution_count": 23,
      "outputs": [
        {
          "output_type": "stream",
          "name": "stdout",
          "text": [
            "Start:  AIC=-36663.62\n",
            "price ~ bedrooms + bathrooms + sqft_lot + floors + waterfront + \n",
            "    view + condition + grade + sqft_basement + yr_built + renovated + \n",
            "    zipcode + sqft_living15 + sqft_lot15\n",
            "\n",
            "                Df Sum of Sq     RSS    AIC\n",
            "- floors         1      0.07  437.45 -36664\n",
            "<none>                        437.38 -36664\n",
            "- sqft_lot15     1      1.20  438.58 -36635\n",
            "- sqft_basement  1      1.38  438.76 -36630\n",
            "- renovated      1      2.02  439.40 -36613\n",
            "- sqft_lot       1      4.80  442.18 -36542\n",
            "- yr_built       1      5.33  442.71 -36528\n",
            "- bedrooms       1      6.77  444.15 -36492\n",
            "- waterfront     1     10.38  447.76 -36400\n",
            "- condition      4     11.30  448.68 -36383\n",
            "- view           4     15.76  453.14 -36271\n",
            "- bathrooms      1     21.16  458.54 -36131\n",
            "- sqft_living15  1     38.91  476.29 -35700\n",
            "- grade         10    105.06  542.44 -34245\n",
            "- zipcode       69    650.39 1087.77 -26482\n",
            "\n",
            "Step:  AIC=-36663.92\n",
            "price ~ bedrooms + bathrooms + sqft_lot + waterfront + view + \n",
            "    condition + grade + sqft_basement + yr_built + renovated + \n",
            "    zipcode + sqft_living15 + sqft_lot15\n",
            "\n",
            "                Df Sum of Sq     RSS    AIC\n",
            "<none>                        437.45 -36664\n",
            "- sqft_lot15     1      1.19  438.64 -36635\n",
            "- sqft_basement  1      1.39  438.84 -36630\n",
            "- renovated      1      2.09  439.54 -36612\n",
            "- sqft_lot       1      4.79  442.23 -36543\n",
            "- yr_built       1      5.46  442.91 -36525\n",
            "- bedrooms       1      6.92  444.37 -36488\n",
            "- waterfront     1     10.43  447.88 -36399\n",
            "- condition      4     11.27  448.72 -36384\n",
            "- view           4     15.78  453.23 -36270\n",
            "- bathrooms      1     23.69  461.14 -36068\n",
            "- sqft_living15  1     38.97  476.42 -35699\n",
            "- grade         10    107.17  544.62 -34202\n",
            "- zipcode       69    677.61 1115.06 -26203\n"
          ]
        }
      ]
    },
    {
      "cell_type": "markdown",
      "source": [
        "Untransforming and getting Cross Validated Results and comparing them to the original results"
      ],
      "metadata": {
        "id": "Tbg7SDxeW6m-"
      }
    },
    {
      "cell_type": "code",
      "source": [
        "y=Homes$price[-train]\n",
        "prelog <- predict(loghome.back, newdata = Homes[-train,])\n",
        "#make sure to undo the log transformation\n",
        "predicted = exp(prelog)\n",
        "RMSElog = sqrt(mean((y-predicted)^2))\n",
        "cat('log model RMSE')\n",
        "RMSElog\n",
        "\n",
        "MAElog = mean(abs(y-predicted))\n",
        "cat('log model MAE')\n",
        "MAElog\n",
        "\n",
        "MAPElog = mean(abs(y-predicted)/y)*100\n",
        "cat('log model MAPE')\n",
        "MAPElog\n",
        "\n",
        "cat('original RMSE')\n",
        "RMSEP.orig\n",
        "\n",
        "cat('original MAE')\n",
        "MAE.orig\n",
        "\n",
        "cat('original MAPE')\n",
        "MAPE.orig"
      ],
      "metadata": {
        "colab": {
          "base_uri": "https://localhost:8080/",
          "height": 230
        },
        "id": "Y36PN72fXFTZ",
        "outputId": "4f8173ee-0819-4142-9d1e-2225f3b14cfb"
      },
      "execution_count": 24,
      "outputs": [
        {
          "output_type": "stream",
          "name": "stdout",
          "text": [
            "log model RMSE"
          ]
        },
        {
          "output_type": "display_data",
          "data": {
            "text/html": [
              "141570.938831232"
            ],
            "text/markdown": "141570.938831232",
            "text/latex": "141570.938831232",
            "text/plain": [
              "[1] 141570.9"
            ]
          },
          "metadata": {}
        },
        {
          "output_type": "stream",
          "name": "stdout",
          "text": [
            "log model MAE"
          ]
        },
        {
          "output_type": "display_data",
          "data": {
            "text/html": [
              "83918.3717450027"
            ],
            "text/markdown": "83918.3717450027",
            "text/latex": "83918.3717450027",
            "text/plain": [
              "[1] 83918.37"
            ]
          },
          "metadata": {}
        },
        {
          "output_type": "stream",
          "name": "stdout",
          "text": [
            "log model MAPE"
          ]
        },
        {
          "output_type": "display_data",
          "data": {
            "text/html": [
              "15.2670437465413"
            ],
            "text/markdown": "15.2670437465413",
            "text/latex": "15.2670437465413",
            "text/plain": [
              "[1] 15.26704"
            ]
          },
          "metadata": {}
        },
        {
          "output_type": "stream",
          "name": "stdout",
          "text": [
            "original RMSE"
          ]
        },
        {
          "output_type": "display_data",
          "data": {
            "text/html": [
              "157214.118896745"
            ],
            "text/markdown": "157214.118896745",
            "text/latex": "157214.118896745",
            "text/plain": [
              "[1] 157214.1"
            ]
          },
          "metadata": {}
        },
        {
          "output_type": "stream",
          "name": "stdout",
          "text": [
            "original MAE"
          ]
        },
        {
          "output_type": "display_data",
          "data": {
            "text/html": [
              "95260.5579116732"
            ],
            "text/markdown": "95260.5579116732",
            "text/latex": "95260.5579116732",
            "text/plain": [
              "[1] 95260.56"
            ]
          },
          "metadata": {}
        },
        {
          "output_type": "stream",
          "name": "stdout",
          "text": [
            "original MAPE"
          ]
        },
        {
          "output_type": "display_data",
          "data": {
            "text/html": [
              "18.1980893049536"
            ],
            "text/markdown": "18.1980893049536",
            "text/latex": "18.1980893049536",
            "text/plain": [
              "[1] 18.19809"
            ]
          },
          "metadata": {}
        }
      ]
    },
    {
      "cell_type": "markdown",
      "source": [
        "The transformed model reduced the RMSE by about 15000"
      ],
      "metadata": {
        "id": "uIUe4MbSXO_N"
      }
    }
  ]
}